{
 "cells": [
  {
   "cell_type": "code",
   "execution_count": 4,
   "id": "2a5ce1ab",
   "metadata": {},
   "outputs": [
    {
     "name": "stdout",
     "output_type": "stream",
     "text": [
      "(1338, 7)\n",
      "   age     sex     bmi  children smoker     region      charges\n",
      "0   19  female  27.900         0    yes  southwest  16884.92400\n",
      "1   18    male  33.770         1     no  southeast   1725.55230\n",
      "2   28    male  33.000         3     no  southeast   4449.46200\n",
      "3   33    male  22.705         0     no  northwest  21984.47061\n",
      "4   32    male  28.880         0     no  northwest   3866.85520\n"
     ]
    }
   ],
   "source": [
    "import numpy as np\n",
    "import pandas as pd\n",
    "import seaborn as sns\n",
    "import plotly.express as px\n",
    "df = pd.read_csv('insurance.csv')\n",
    "\n",
    "print(df.shape)\n",
    "print(df.head())"
   ]
  },
  {
   "cell_type": "code",
   "execution_count": 5,
   "id": "76dc5335",
   "metadata": {},
   "outputs": [
    {
     "data": {
      "application/vnd.plotly.v1+json": {
       "config": {
        "plotlyServerURL": "https://plot.ly"
       },
       "data": [
        {
         "bingroup": "x",
         "hovertemplate": "age=%{x}<br>count=%{y}<extra></extra>",
         "legendgroup": "",
         "marker": {
          "color": "#636efa",
          "pattern": {
           "shape": ""
          }
         },
         "name": "",
         "nbinsx": 10,
         "orientation": "v",
         "showlegend": false,
         "type": "histogram",
         "x": {
          "bdata": "ExIcISAfLiUlPBk+FzgbEzQXOB48HhIiJTs/NxcfFhITPxwTPhojPBgfKSUmNxIcPCQSFTAkKDo6EjUiKxlAHBQTPSgoHBsfNTosOR0VFikfLRYwJS05OC43FTU7I0AcNjc4JikeEj0iFBMaHT82NyUVNDw6HTElLBIULC8aEzQgJjs9NRMUFhMWNhYiGiIdHh0uMzUTIzAgKigsMBIeMioSNiAlLxQgExs/MRIjGD8mNi4pOhIWLCwkGh4pHT0kGTgSEyctM0ATMDwbLhw7Iz8oFCgYIi0pNRsaGCI1IBMqNxw6KS8qOxM7JygSHxMsFyE3KD82PBgTHRI/NhsyNzgmMxM6FDQTNS4oOy0xEjIpMhkvExY7Myg2Hjc0Li4/OzQcHRkWGRITLx8wJDU4HDkdHB46KTITKzEbNDI2LCAiGiI5HSgbLUA0PTQ9OCtAPD4yLhg+PD8xIiEuJBM5Mh4hEi4uLxcSMCMTFRUxOCosEj05KhoUFycYQD4bNzcjLBM6MhoYMBMwMS4uKxVAEjMvQDEfNCEvJiATLBoZEys0JEA/QD0oGTAtJhIVGxMdKjwfPBYjNBofIRI7OC08OCgjJx4YFCA7Nzk4KDEqPjgTHjw4HBIbEhMvNj0YGRUXPzESMzAfNhMsNRM9Ej0VFB8tLD4dKzMTJiUWFRg5OBszEyc6FC0jHzIgMyYqEhMzLhI5PjslQCYhLi41IhQ/NjYxHDYZKz8gPjQZHC4iIxMuNhsyEhMmKTEwHxIePjk6Fh80GTsTJyATIRUiPSY6LxQVKS4qIis0EjM4QBMzGzscHi8mEiIULzgxEzceJTESOx0kITosNRgdKDNAEyMnOCEqPRcrMCcoEjoxNTAtOzQaGzA5JTkgEkArMSg+KB4dJCksLTc8ODEVEyc1ITUqKC8bFS8UGBsaNSk4FxUyNSIvITMxHyQSMisUGDwxPDM6MzU+EzIeKR0SKSM1GDA7MSUaFx0tGzUfMjIiEy8cJRVAOhgfJy8eEhYXIRstOS8qQCY9NSwTKTMoLSM1HhIzMh8jPBUdPicTFjUnGx4eOiEqQBUSFy0oExIZLiE2HCQUGBcvIS0aEiw8QDgkKSc/JBw6JCokOCM7FTsXOTU8MxcbNyU9LjUxFDAZGTklJjckMygSOT0ZMhoqKywXMSEpJRYXFTMZIDkkFjlAJDYvPj0rExITMTwaMTwaGyw/IBYSOywhGCstPSM+PiYiKzITOT4pGicuLSA7LCcSNRIyEhM+OColKhk5Mx4sIh82GCswEx0/LjQjMywVJzIiFhMaHTAaLSQ2Ih8bFCwrLSIYGiYyJhsnJz8hJB4YGDAvHRwvGTMwKz0wJjsTGjYVMxYvEi8VExc2JS43HhI9NhYtFhMjEhQcNysrFhkxLEAxLxs3MC0YIBg5OyQdKjAnPzYlPxU2PCAvFRw/EiAmID4nNzk0OC83FxYyEjMWNBkhNR06JTYxMhotNiYwHBc3KRkhHhcuNRsXPzcjIhMnGzk0HDIsGiETMik0JzI0PBQ3KhI6KyMwJBMXFCArIh4SKSM5HSAlEis4Jh0WNCgXHyoYGTAXLRQ+KxcfKTowHxMTKSgfJS4WMxIjOyQlOyQnEjQbEigdLiYeKDIUKSEmKjg6NBQ2Oi0aPzolGTRAFhwSHC0hEiAYExQoIiozNjc0IBwpKzFANxgULRoZKyMaORYgJxkwLxISPS8cJBQsJhMVLjoUEhwhEy0+GSsqGB0gGSkqISITHhITEiMnHz4+Kh89KjMXNDkXNDISEhU9",
          "dtype": "i1"
         },
         "xaxis": "x",
         "yaxis": "y"
        }
       ],
       "layout": {
        "barmode": "relative",
        "legend": {
         "tracegroupgap": 0
        },
        "template": {
         "data": {
          "bar": [
           {
            "error_x": {
             "color": "#2a3f5f"
            },
            "error_y": {
             "color": "#2a3f5f"
            },
            "marker": {
             "line": {
              "color": "#E5ECF6",
              "width": 0.5
             },
             "pattern": {
              "fillmode": "overlay",
              "size": 10,
              "solidity": 0.2
             }
            },
            "type": "bar"
           }
          ],
          "barpolar": [
           {
            "marker": {
             "line": {
              "color": "#E5ECF6",
              "width": 0.5
             },
             "pattern": {
              "fillmode": "overlay",
              "size": 10,
              "solidity": 0.2
             }
            },
            "type": "barpolar"
           }
          ],
          "carpet": [
           {
            "aaxis": {
             "endlinecolor": "#2a3f5f",
             "gridcolor": "white",
             "linecolor": "white",
             "minorgridcolor": "white",
             "startlinecolor": "#2a3f5f"
            },
            "baxis": {
             "endlinecolor": "#2a3f5f",
             "gridcolor": "white",
             "linecolor": "white",
             "minorgridcolor": "white",
             "startlinecolor": "#2a3f5f"
            },
            "type": "carpet"
           }
          ],
          "choropleth": [
           {
            "colorbar": {
             "outlinewidth": 0,
             "ticks": ""
            },
            "type": "choropleth"
           }
          ],
          "contour": [
           {
            "colorbar": {
             "outlinewidth": 0,
             "ticks": ""
            },
            "colorscale": [
             [
              0,
              "#0d0887"
             ],
             [
              0.1111111111111111,
              "#46039f"
             ],
             [
              0.2222222222222222,
              "#7201a8"
             ],
             [
              0.3333333333333333,
              "#9c179e"
             ],
             [
              0.4444444444444444,
              "#bd3786"
             ],
             [
              0.5555555555555556,
              "#d8576b"
             ],
             [
              0.6666666666666666,
              "#ed7953"
             ],
             [
              0.7777777777777778,
              "#fb9f3a"
             ],
             [
              0.8888888888888888,
              "#fdca26"
             ],
             [
              1,
              "#f0f921"
             ]
            ],
            "type": "contour"
           }
          ],
          "contourcarpet": [
           {
            "colorbar": {
             "outlinewidth": 0,
             "ticks": ""
            },
            "type": "contourcarpet"
           }
          ],
          "heatmap": [
           {
            "colorbar": {
             "outlinewidth": 0,
             "ticks": ""
            },
            "colorscale": [
             [
              0,
              "#0d0887"
             ],
             [
              0.1111111111111111,
              "#46039f"
             ],
             [
              0.2222222222222222,
              "#7201a8"
             ],
             [
              0.3333333333333333,
              "#9c179e"
             ],
             [
              0.4444444444444444,
              "#bd3786"
             ],
             [
              0.5555555555555556,
              "#d8576b"
             ],
             [
              0.6666666666666666,
              "#ed7953"
             ],
             [
              0.7777777777777778,
              "#fb9f3a"
             ],
             [
              0.8888888888888888,
              "#fdca26"
             ],
             [
              1,
              "#f0f921"
             ]
            ],
            "type": "heatmap"
           }
          ],
          "histogram": [
           {
            "marker": {
             "pattern": {
              "fillmode": "overlay",
              "size": 10,
              "solidity": 0.2
             }
            },
            "type": "histogram"
           }
          ],
          "histogram2d": [
           {
            "colorbar": {
             "outlinewidth": 0,
             "ticks": ""
            },
            "colorscale": [
             [
              0,
              "#0d0887"
             ],
             [
              0.1111111111111111,
              "#46039f"
             ],
             [
              0.2222222222222222,
              "#7201a8"
             ],
             [
              0.3333333333333333,
              "#9c179e"
             ],
             [
              0.4444444444444444,
              "#bd3786"
             ],
             [
              0.5555555555555556,
              "#d8576b"
             ],
             [
              0.6666666666666666,
              "#ed7953"
             ],
             [
              0.7777777777777778,
              "#fb9f3a"
             ],
             [
              0.8888888888888888,
              "#fdca26"
             ],
             [
              1,
              "#f0f921"
             ]
            ],
            "type": "histogram2d"
           }
          ],
          "histogram2dcontour": [
           {
            "colorbar": {
             "outlinewidth": 0,
             "ticks": ""
            },
            "colorscale": [
             [
              0,
              "#0d0887"
             ],
             [
              0.1111111111111111,
              "#46039f"
             ],
             [
              0.2222222222222222,
              "#7201a8"
             ],
             [
              0.3333333333333333,
              "#9c179e"
             ],
             [
              0.4444444444444444,
              "#bd3786"
             ],
             [
              0.5555555555555556,
              "#d8576b"
             ],
             [
              0.6666666666666666,
              "#ed7953"
             ],
             [
              0.7777777777777778,
              "#fb9f3a"
             ],
             [
              0.8888888888888888,
              "#fdca26"
             ],
             [
              1,
              "#f0f921"
             ]
            ],
            "type": "histogram2dcontour"
           }
          ],
          "mesh3d": [
           {
            "colorbar": {
             "outlinewidth": 0,
             "ticks": ""
            },
            "type": "mesh3d"
           }
          ],
          "parcoords": [
           {
            "line": {
             "colorbar": {
              "outlinewidth": 0,
              "ticks": ""
             }
            },
            "type": "parcoords"
           }
          ],
          "pie": [
           {
            "automargin": true,
            "type": "pie"
           }
          ],
          "scatter": [
           {
            "fillpattern": {
             "fillmode": "overlay",
             "size": 10,
             "solidity": 0.2
            },
            "type": "scatter"
           }
          ],
          "scatter3d": [
           {
            "line": {
             "colorbar": {
              "outlinewidth": 0,
              "ticks": ""
             }
            },
            "marker": {
             "colorbar": {
              "outlinewidth": 0,
              "ticks": ""
             }
            },
            "type": "scatter3d"
           }
          ],
          "scattercarpet": [
           {
            "marker": {
             "colorbar": {
              "outlinewidth": 0,
              "ticks": ""
             }
            },
            "type": "scattercarpet"
           }
          ],
          "scattergeo": [
           {
            "marker": {
             "colorbar": {
              "outlinewidth": 0,
              "ticks": ""
             }
            },
            "type": "scattergeo"
           }
          ],
          "scattergl": [
           {
            "marker": {
             "colorbar": {
              "outlinewidth": 0,
              "ticks": ""
             }
            },
            "type": "scattergl"
           }
          ],
          "scattermap": [
           {
            "marker": {
             "colorbar": {
              "outlinewidth": 0,
              "ticks": ""
             }
            },
            "type": "scattermap"
           }
          ],
          "scattermapbox": [
           {
            "marker": {
             "colorbar": {
              "outlinewidth": 0,
              "ticks": ""
             }
            },
            "type": "scattermapbox"
           }
          ],
          "scatterpolar": [
           {
            "marker": {
             "colorbar": {
              "outlinewidth": 0,
              "ticks": ""
             }
            },
            "type": "scatterpolar"
           }
          ],
          "scatterpolargl": [
           {
            "marker": {
             "colorbar": {
              "outlinewidth": 0,
              "ticks": ""
             }
            },
            "type": "scatterpolargl"
           }
          ],
          "scatterternary": [
           {
            "marker": {
             "colorbar": {
              "outlinewidth": 0,
              "ticks": ""
             }
            },
            "type": "scatterternary"
           }
          ],
          "surface": [
           {
            "colorbar": {
             "outlinewidth": 0,
             "ticks": ""
            },
            "colorscale": [
             [
              0,
              "#0d0887"
             ],
             [
              0.1111111111111111,
              "#46039f"
             ],
             [
              0.2222222222222222,
              "#7201a8"
             ],
             [
              0.3333333333333333,
              "#9c179e"
             ],
             [
              0.4444444444444444,
              "#bd3786"
             ],
             [
              0.5555555555555556,
              "#d8576b"
             ],
             [
              0.6666666666666666,
              "#ed7953"
             ],
             [
              0.7777777777777778,
              "#fb9f3a"
             ],
             [
              0.8888888888888888,
              "#fdca26"
             ],
             [
              1,
              "#f0f921"
             ]
            ],
            "type": "surface"
           }
          ],
          "table": [
           {
            "cells": {
             "fill": {
              "color": "#EBF0F8"
             },
             "line": {
              "color": "white"
             }
            },
            "header": {
             "fill": {
              "color": "#C8D4E3"
             },
             "line": {
              "color": "white"
             }
            },
            "type": "table"
           }
          ]
         },
         "layout": {
          "annotationdefaults": {
           "arrowcolor": "#2a3f5f",
           "arrowhead": 0,
           "arrowwidth": 1
          },
          "autotypenumbers": "strict",
          "coloraxis": {
           "colorbar": {
            "outlinewidth": 0,
            "ticks": ""
           }
          },
          "colorscale": {
           "diverging": [
            [
             0,
             "#8e0152"
            ],
            [
             0.1,
             "#c51b7d"
            ],
            [
             0.2,
             "#de77ae"
            ],
            [
             0.3,
             "#f1b6da"
            ],
            [
             0.4,
             "#fde0ef"
            ],
            [
             0.5,
             "#f7f7f7"
            ],
            [
             0.6,
             "#e6f5d0"
            ],
            [
             0.7,
             "#b8e186"
            ],
            [
             0.8,
             "#7fbc41"
            ],
            [
             0.9,
             "#4d9221"
            ],
            [
             1,
             "#276419"
            ]
           ],
           "sequential": [
            [
             0,
             "#0d0887"
            ],
            [
             0.1111111111111111,
             "#46039f"
            ],
            [
             0.2222222222222222,
             "#7201a8"
            ],
            [
             0.3333333333333333,
             "#9c179e"
            ],
            [
             0.4444444444444444,
             "#bd3786"
            ],
            [
             0.5555555555555556,
             "#d8576b"
            ],
            [
             0.6666666666666666,
             "#ed7953"
            ],
            [
             0.7777777777777778,
             "#fb9f3a"
            ],
            [
             0.8888888888888888,
             "#fdca26"
            ],
            [
             1,
             "#f0f921"
            ]
           ],
           "sequentialminus": [
            [
             0,
             "#0d0887"
            ],
            [
             0.1111111111111111,
             "#46039f"
            ],
            [
             0.2222222222222222,
             "#7201a8"
            ],
            [
             0.3333333333333333,
             "#9c179e"
            ],
            [
             0.4444444444444444,
             "#bd3786"
            ],
            [
             0.5555555555555556,
             "#d8576b"
            ],
            [
             0.6666666666666666,
             "#ed7953"
            ],
            [
             0.7777777777777778,
             "#fb9f3a"
            ],
            [
             0.8888888888888888,
             "#fdca26"
            ],
            [
             1,
             "#f0f921"
            ]
           ]
          },
          "colorway": [
           "#636efa",
           "#EF553B",
           "#00cc96",
           "#ab63fa",
           "#FFA15A",
           "#19d3f3",
           "#FF6692",
           "#B6E880",
           "#FF97FF",
           "#FECB52"
          ],
          "font": {
           "color": "#2a3f5f"
          },
          "geo": {
           "bgcolor": "white",
           "lakecolor": "white",
           "landcolor": "#E5ECF6",
           "showlakes": true,
           "showland": true,
           "subunitcolor": "white"
          },
          "hoverlabel": {
           "align": "left"
          },
          "hovermode": "closest",
          "mapbox": {
           "style": "light"
          },
          "paper_bgcolor": "white",
          "plot_bgcolor": "#E5ECF6",
          "polar": {
           "angularaxis": {
            "gridcolor": "white",
            "linecolor": "white",
            "ticks": ""
           },
           "bgcolor": "#E5ECF6",
           "radialaxis": {
            "gridcolor": "white",
            "linecolor": "white",
            "ticks": ""
           }
          },
          "scene": {
           "xaxis": {
            "backgroundcolor": "#E5ECF6",
            "gridcolor": "white",
            "gridwidth": 2,
            "linecolor": "white",
            "showbackground": true,
            "ticks": "",
            "zerolinecolor": "white"
           },
           "yaxis": {
            "backgroundcolor": "#E5ECF6",
            "gridcolor": "white",
            "gridwidth": 2,
            "linecolor": "white",
            "showbackground": true,
            "ticks": "",
            "zerolinecolor": "white"
           },
           "zaxis": {
            "backgroundcolor": "#E5ECF6",
            "gridcolor": "white",
            "gridwidth": 2,
            "linecolor": "white",
            "showbackground": true,
            "ticks": "",
            "zerolinecolor": "white"
           }
          },
          "shapedefaults": {
           "line": {
            "color": "#2a3f5f"
           }
          },
          "ternary": {
           "aaxis": {
            "gridcolor": "white",
            "linecolor": "white",
            "ticks": ""
           },
           "baxis": {
            "gridcolor": "white",
            "linecolor": "white",
            "ticks": ""
           },
           "bgcolor": "#E5ECF6",
           "caxis": {
            "gridcolor": "white",
            "linecolor": "white",
            "ticks": ""
           }
          },
          "title": {
           "x": 0.05
          },
          "xaxis": {
           "automargin": true,
           "gridcolor": "white",
           "linecolor": "white",
           "ticks": "",
           "title": {
            "standoff": 15
           },
           "zerolinecolor": "white",
           "zerolinewidth": 2
          },
          "yaxis": {
           "automargin": true,
           "gridcolor": "white",
           "linecolor": "white",
           "ticks": "",
           "title": {
            "standoff": 15
           },
           "zerolinecolor": "white",
           "zerolinewidth": 2
          }
         }
        },
        "title": {
         "text": "Age Distribution"
        },
        "xaxis": {
         "anchor": "y",
         "domain": [
          0,
          1
         ],
         "title": {
          "text": "age"
         }
        },
        "yaxis": {
         "anchor": "x",
         "domain": [
          0,
          1
         ],
         "title": {
          "text": "count"
         }
        }
       }
      }
     },
     "metadata": {},
     "output_type": "display_data"
    },
    {
     "data": {
      "application/vnd.plotly.v1+json": {
       "config": {
        "plotlyServerURL": "https://plot.ly"
       },
       "data": [
        {
         "bingroup": "x",
         "hovertemplate": "sex=female<br>bmi=%{x}<br>count=%{y}<extra></extra>",
         "legendgroup": "female",
         "marker": {
          "color": "#636efa",
          "opacity": 0.7,
          "pattern": {
           "shape": ""
          }
         },
         "name": "female",
         "nbinsx": 15,
         "orientation": "v",
         "showlegend": true,
         "type": "histogram",
         "x": {
          "bdata": "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",
          "dtype": "f8"
         },
         "xaxis": "x",
         "yaxis": "y"
        },
        {
         "bingroup": "x",
         "hovertemplate": "sex=male<br>bmi=%{x}<br>count=%{y}<extra></extra>",
         "legendgroup": "male",
         "marker": {
          "color": "#EF553B",
          "opacity": 0.7,
          "pattern": {
           "shape": ""
          }
         },
         "name": "male",
         "nbinsx": 15,
         "orientation": "v",
         "showlegend": true,
         "type": "histogram",
         "x": {
          "bdata": "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",
          "dtype": "f8"
         },
         "xaxis": "x",
         "yaxis": "y"
        }
       ],
       "layout": {
        "barmode": "overlay",
        "legend": {
         "title": {
          "text": "sex"
         },
         "tracegroupgap": 0
        },
        "template": {
         "data": {
          "bar": [
           {
            "error_x": {
             "color": "#2a3f5f"
            },
            "error_y": {
             "color": "#2a3f5f"
            },
            "marker": {
             "line": {
              "color": "#E5ECF6",
              "width": 0.5
             },
             "pattern": {
              "fillmode": "overlay",
              "size": 10,
              "solidity": 0.2
             }
            },
            "type": "bar"
           }
          ],
          "barpolar": [
           {
            "marker": {
             "line": {
              "color": "#E5ECF6",
              "width": 0.5
             },
             "pattern": {
              "fillmode": "overlay",
              "size": 10,
              "solidity": 0.2
             }
            },
            "type": "barpolar"
           }
          ],
          "carpet": [
           {
            "aaxis": {
             "endlinecolor": "#2a3f5f",
             "gridcolor": "white",
             "linecolor": "white",
             "minorgridcolor": "white",
             "startlinecolor": "#2a3f5f"
            },
            "baxis": {
             "endlinecolor": "#2a3f5f",
             "gridcolor": "white",
             "linecolor": "white",
             "minorgridcolor": "white",
             "startlinecolor": "#2a3f5f"
            },
            "type": "carpet"
           }
          ],
          "choropleth": [
           {
            "colorbar": {
             "outlinewidth": 0,
             "ticks": ""
            },
            "type": "choropleth"
           }
          ],
          "contour": [
           {
            "colorbar": {
             "outlinewidth": 0,
             "ticks": ""
            },
            "colorscale": [
             [
              0,
              "#0d0887"
             ],
             [
              0.1111111111111111,
              "#46039f"
             ],
             [
              0.2222222222222222,
              "#7201a8"
             ],
             [
              0.3333333333333333,
              "#9c179e"
             ],
             [
              0.4444444444444444,
              "#bd3786"
             ],
             [
              0.5555555555555556,
              "#d8576b"
             ],
             [
              0.6666666666666666,
              "#ed7953"
             ],
             [
              0.7777777777777778,
              "#fb9f3a"
             ],
             [
              0.8888888888888888,
              "#fdca26"
             ],
             [
              1,
              "#f0f921"
             ]
            ],
            "type": "contour"
           }
          ],
          "contourcarpet": [
           {
            "colorbar": {
             "outlinewidth": 0,
             "ticks": ""
            },
            "type": "contourcarpet"
           }
          ],
          "heatmap": [
           {
            "colorbar": {
             "outlinewidth": 0,
             "ticks": ""
            },
            "colorscale": [
             [
              0,
              "#0d0887"
             ],
             [
              0.1111111111111111,
              "#46039f"
             ],
             [
              0.2222222222222222,
              "#7201a8"
             ],
             [
              0.3333333333333333,
              "#9c179e"
             ],
             [
              0.4444444444444444,
              "#bd3786"
             ],
             [
              0.5555555555555556,
              "#d8576b"
             ],
             [
              0.6666666666666666,
              "#ed7953"
             ],
             [
              0.7777777777777778,
              "#fb9f3a"
             ],
             [
              0.8888888888888888,
              "#fdca26"
             ],
             [
              1,
              "#f0f921"
             ]
            ],
            "type": "heatmap"
           }
          ],
          "histogram": [
           {
            "marker": {
             "pattern": {
              "fillmode": "overlay",
              "size": 10,
              "solidity": 0.2
             }
            },
            "type": "histogram"
           }
          ],
          "histogram2d": [
           {
            "colorbar": {
             "outlinewidth": 0,
             "ticks": ""
            },
            "colorscale": [
             [
              0,
              "#0d0887"
             ],
             [
              0.1111111111111111,
              "#46039f"
             ],
             [
              0.2222222222222222,
              "#7201a8"
             ],
             [
              0.3333333333333333,
              "#9c179e"
             ],
             [
              0.4444444444444444,
              "#bd3786"
             ],
             [
              0.5555555555555556,
              "#d8576b"
             ],
             [
              0.6666666666666666,
              "#ed7953"
             ],
             [
              0.7777777777777778,
              "#fb9f3a"
             ],
             [
              0.8888888888888888,
              "#fdca26"
             ],
             [
              1,
              "#f0f921"
             ]
            ],
            "type": "histogram2d"
           }
          ],
          "histogram2dcontour": [
           {
            "colorbar": {
             "outlinewidth": 0,
             "ticks": ""
            },
            "colorscale": [
             [
              0,
              "#0d0887"
             ],
             [
              0.1111111111111111,
              "#46039f"
             ],
             [
              0.2222222222222222,
              "#7201a8"
             ],
             [
              0.3333333333333333,
              "#9c179e"
             ],
             [
              0.4444444444444444,
              "#bd3786"
             ],
             [
              0.5555555555555556,
              "#d8576b"
             ],
             [
              0.6666666666666666,
              "#ed7953"
             ],
             [
              0.7777777777777778,
              "#fb9f3a"
             ],
             [
              0.8888888888888888,
              "#fdca26"
             ],
             [
              1,
              "#f0f921"
             ]
            ],
            "type": "histogram2dcontour"
           }
          ],
          "mesh3d": [
           {
            "colorbar": {
             "outlinewidth": 0,
             "ticks": ""
            },
            "type": "mesh3d"
           }
          ],
          "parcoords": [
           {
            "line": {
             "colorbar": {
              "outlinewidth": 0,
              "ticks": ""
             }
            },
            "type": "parcoords"
           }
          ],
          "pie": [
           {
            "automargin": true,
            "type": "pie"
           }
          ],
          "scatter": [
           {
            "fillpattern": {
             "fillmode": "overlay",
             "size": 10,
             "solidity": 0.2
            },
            "type": "scatter"
           }
          ],
          "scatter3d": [
           {
            "line": {
             "colorbar": {
              "outlinewidth": 0,
              "ticks": ""
             }
            },
            "marker": {
             "colorbar": {
              "outlinewidth": 0,
              "ticks": ""
             }
            },
            "type": "scatter3d"
           }
          ],
          "scattercarpet": [
           {
            "marker": {
             "colorbar": {
              "outlinewidth": 0,
              "ticks": ""
             }
            },
            "type": "scattercarpet"
           }
          ],
          "scattergeo": [
           {
            "marker": {
             "colorbar": {
              "outlinewidth": 0,
              "ticks": ""
             }
            },
            "type": "scattergeo"
           }
          ],
          "scattergl": [
           {
            "marker": {
             "colorbar": {
              "outlinewidth": 0,
              "ticks": ""
             }
            },
            "type": "scattergl"
           }
          ],
          "scattermap": [
           {
            "marker": {
             "colorbar": {
              "outlinewidth": 0,
              "ticks": ""
             }
            },
            "type": "scattermap"
           }
          ],
          "scattermapbox": [
           {
            "marker": {
             "colorbar": {
              "outlinewidth": 0,
              "ticks": ""
             }
            },
            "type": "scattermapbox"
           }
          ],
          "scatterpolar": [
           {
            "marker": {
             "colorbar": {
              "outlinewidth": 0,
              "ticks": ""
             }
            },
            "type": "scatterpolar"
           }
          ],
          "scatterpolargl": [
           {
            "marker": {
             "colorbar": {
              "outlinewidth": 0,
              "ticks": ""
             }
            },
            "type": "scatterpolargl"
           }
          ],
          "scatterternary": [
           {
            "marker": {
             "colorbar": {
              "outlinewidth": 0,
              "ticks": ""
             }
            },
            "type": "scatterternary"
           }
          ],
          "surface": [
           {
            "colorbar": {
             "outlinewidth": 0,
             "ticks": ""
            },
            "colorscale": [
             [
              0,
              "#0d0887"
             ],
             [
              0.1111111111111111,
              "#46039f"
             ],
             [
              0.2222222222222222,
              "#7201a8"
             ],
             [
              0.3333333333333333,
              "#9c179e"
             ],
             [
              0.4444444444444444,
              "#bd3786"
             ],
             [
              0.5555555555555556,
              "#d8576b"
             ],
             [
              0.6666666666666666,
              "#ed7953"
             ],
             [
              0.7777777777777778,
              "#fb9f3a"
             ],
             [
              0.8888888888888888,
              "#fdca26"
             ],
             [
              1,
              "#f0f921"
             ]
            ],
            "type": "surface"
           }
          ],
          "table": [
           {
            "cells": {
             "fill": {
              "color": "#EBF0F8"
             },
             "line": {
              "color": "white"
             }
            },
            "header": {
             "fill": {
              "color": "#C8D4E3"
             },
             "line": {
              "color": "white"
             }
            },
            "type": "table"
           }
          ]
         },
         "layout": {
          "annotationdefaults": {
           "arrowcolor": "#2a3f5f",
           "arrowhead": 0,
           "arrowwidth": 1
          },
          "autotypenumbers": "strict",
          "coloraxis": {
           "colorbar": {
            "outlinewidth": 0,
            "ticks": ""
           }
          },
          "colorscale": {
           "diverging": [
            [
             0,
             "#8e0152"
            ],
            [
             0.1,
             "#c51b7d"
            ],
            [
             0.2,
             "#de77ae"
            ],
            [
             0.3,
             "#f1b6da"
            ],
            [
             0.4,
             "#fde0ef"
            ],
            [
             0.5,
             "#f7f7f7"
            ],
            [
             0.6,
             "#e6f5d0"
            ],
            [
             0.7,
             "#b8e186"
            ],
            [
             0.8,
             "#7fbc41"
            ],
            [
             0.9,
             "#4d9221"
            ],
            [
             1,
             "#276419"
            ]
           ],
           "sequential": [
            [
             0,
             "#0d0887"
            ],
            [
             0.1111111111111111,
             "#46039f"
            ],
            [
             0.2222222222222222,
             "#7201a8"
            ],
            [
             0.3333333333333333,
             "#9c179e"
            ],
            [
             0.4444444444444444,
             "#bd3786"
            ],
            [
             0.5555555555555556,
             "#d8576b"
            ],
            [
             0.6666666666666666,
             "#ed7953"
            ],
            [
             0.7777777777777778,
             "#fb9f3a"
            ],
            [
             0.8888888888888888,
             "#fdca26"
            ],
            [
             1,
             "#f0f921"
            ]
           ],
           "sequentialminus": [
            [
             0,
             "#0d0887"
            ],
            [
             0.1111111111111111,
             "#46039f"
            ],
            [
             0.2222222222222222,
             "#7201a8"
            ],
            [
             0.3333333333333333,
             "#9c179e"
            ],
            [
             0.4444444444444444,
             "#bd3786"
            ],
            [
             0.5555555555555556,
             "#d8576b"
            ],
            [
             0.6666666666666666,
             "#ed7953"
            ],
            [
             0.7777777777777778,
             "#fb9f3a"
            ],
            [
             0.8888888888888888,
             "#fdca26"
            ],
            [
             1,
             "#f0f921"
            ]
           ]
          },
          "colorway": [
           "#636efa",
           "#EF553B",
           "#00cc96",
           "#ab63fa",
           "#FFA15A",
           "#19d3f3",
           "#FF6692",
           "#B6E880",
           "#FF97FF",
           "#FECB52"
          ],
          "font": {
           "color": "#2a3f5f"
          },
          "geo": {
           "bgcolor": "white",
           "lakecolor": "white",
           "landcolor": "#E5ECF6",
           "showlakes": true,
           "showland": true,
           "subunitcolor": "white"
          },
          "hoverlabel": {
           "align": "left"
          },
          "hovermode": "closest",
          "mapbox": {
           "style": "light"
          },
          "paper_bgcolor": "white",
          "plot_bgcolor": "#E5ECF6",
          "polar": {
           "angularaxis": {
            "gridcolor": "white",
            "linecolor": "white",
            "ticks": ""
           },
           "bgcolor": "#E5ECF6",
           "radialaxis": {
            "gridcolor": "white",
            "linecolor": "white",
            "ticks": ""
           }
          },
          "scene": {
           "xaxis": {
            "backgroundcolor": "#E5ECF6",
            "gridcolor": "white",
            "gridwidth": 2,
            "linecolor": "white",
            "showbackground": true,
            "ticks": "",
            "zerolinecolor": "white"
           },
           "yaxis": {
            "backgroundcolor": "#E5ECF6",
            "gridcolor": "white",
            "gridwidth": 2,
            "linecolor": "white",
            "showbackground": true,
            "ticks": "",
            "zerolinecolor": "white"
           },
           "zaxis": {
            "backgroundcolor": "#E5ECF6",
            "gridcolor": "white",
            "gridwidth": 2,
            "linecolor": "white",
            "showbackground": true,
            "ticks": "",
            "zerolinecolor": "white"
           }
          },
          "shapedefaults": {
           "line": {
            "color": "#2a3f5f"
           }
          },
          "ternary": {
           "aaxis": {
            "gridcolor": "white",
            "linecolor": "white",
            "ticks": ""
           },
           "baxis": {
            "gridcolor": "white",
            "linecolor": "white",
            "ticks": ""
           },
           "bgcolor": "#E5ECF6",
           "caxis": {
            "gridcolor": "white",
            "linecolor": "white",
            "ticks": ""
           }
          },
          "title": {
           "x": 0.05
          },
          "xaxis": {
           "automargin": true,
           "gridcolor": "white",
           "linecolor": "white",
           "ticks": "",
           "title": {
            "standoff": 15
           },
           "zerolinecolor": "white",
           "zerolinewidth": 2
          },
          "yaxis": {
           "automargin": true,
           "gridcolor": "white",
           "linecolor": "white",
           "ticks": "",
           "title": {
            "standoff": 15
           },
           "zerolinecolor": "white",
           "zerolinewidth": 2
          }
         }
        },
        "title": {
         "text": "BMI Distribution by Sex"
        },
        "xaxis": {
         "anchor": "y",
         "domain": [
          0,
          1
         ],
         "title": {
          "text": "bmi"
         }
        },
        "yaxis": {
         "anchor": "x",
         "domain": [
          0,
          1
         ],
         "title": {
          "text": "count"
         }
        }
       }
      }
     },
     "metadata": {},
     "output_type": "display_data"
    },
    {
     "data": {
      "application/vnd.plotly.v1+json": {
       "config": {
        "plotlyServerURL": "https://plot.ly"
       },
       "data": [
        {
         "bingroup": "x",
         "hovertemplate": "smoker=yes<br>charges=%{x}<br>count=%{y}<extra></extra>",
         "legendgroup": "yes",
         "marker": {
          "color": "#636efa",
          "opacity": 0.7,
          "pattern": {
           "shape": ""
          }
         },
         "name": "yes",
         "nbinsx": 20,
         "orientation": "v",
         "showlegend": true,
         "type": "histogram",
         "x": {
          "bdata": "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",
          "dtype": "f8"
         },
         "xaxis": "x",
         "yaxis": "y"
        },
        {
         "bingroup": "x",
         "hovertemplate": "smoker=no<br>charges=%{x}<br>count=%{y}<extra></extra>",
         "legendgroup": "no",
         "marker": {
          "color": "#EF553B",
          "opacity": 0.7,
          "pattern": {
           "shape": ""
          }
         },
         "name": "no",
         "nbinsx": 20,
         "orientation": "v",
         "showlegend": true,
         "type": "histogram",
         "x": {
          "bdata": "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",
          "dtype": "f8"
         },
         "xaxis": "x",
         "yaxis": "y"
        }
       ],
       "layout": {
        "barmode": "overlay",
        "legend": {
         "title": {
          "text": "smoker"
         },
         "tracegroupgap": 0
        },
        "template": {
         "data": {
          "bar": [
           {
            "error_x": {
             "color": "#2a3f5f"
            },
            "error_y": {
             "color": "#2a3f5f"
            },
            "marker": {
             "line": {
              "color": "#E5ECF6",
              "width": 0.5
             },
             "pattern": {
              "fillmode": "overlay",
              "size": 10,
              "solidity": 0.2
             }
            },
            "type": "bar"
           }
          ],
          "barpolar": [
           {
            "marker": {
             "line": {
              "color": "#E5ECF6",
              "width": 0.5
             },
             "pattern": {
              "fillmode": "overlay",
              "size": 10,
              "solidity": 0.2
             }
            },
            "type": "barpolar"
           }
          ],
          "carpet": [
           {
            "aaxis": {
             "endlinecolor": "#2a3f5f",
             "gridcolor": "white",
             "linecolor": "white",
             "minorgridcolor": "white",
             "startlinecolor": "#2a3f5f"
            },
            "baxis": {
             "endlinecolor": "#2a3f5f",
             "gridcolor": "white",
             "linecolor": "white",
             "minorgridcolor": "white",
             "startlinecolor": "#2a3f5f"
            },
            "type": "carpet"
           }
          ],
          "choropleth": [
           {
            "colorbar": {
             "outlinewidth": 0,
             "ticks": ""
            },
            "type": "choropleth"
           }
          ],
          "contour": [
           {
            "colorbar": {
             "outlinewidth": 0,
             "ticks": ""
            },
            "colorscale": [
             [
              0,
              "#0d0887"
             ],
             [
              0.1111111111111111,
              "#46039f"
             ],
             [
              0.2222222222222222,
              "#7201a8"
             ],
             [
              0.3333333333333333,
              "#9c179e"
             ],
             [
              0.4444444444444444,
              "#bd3786"
             ],
             [
              0.5555555555555556,
              "#d8576b"
             ],
             [
              0.6666666666666666,
              "#ed7953"
             ],
             [
              0.7777777777777778,
              "#fb9f3a"
             ],
             [
              0.8888888888888888,
              "#fdca26"
             ],
             [
              1,
              "#f0f921"
             ]
            ],
            "type": "contour"
           }
          ],
          "contourcarpet": [
           {
            "colorbar": {
             "outlinewidth": 0,
             "ticks": ""
            },
            "type": "contourcarpet"
           }
          ],
          "heatmap": [
           {
            "colorbar": {
             "outlinewidth": 0,
             "ticks": ""
            },
            "colorscale": [
             [
              0,
              "#0d0887"
             ],
             [
              0.1111111111111111,
              "#46039f"
             ],
             [
              0.2222222222222222,
              "#7201a8"
             ],
             [
              0.3333333333333333,
              "#9c179e"
             ],
             [
              0.4444444444444444,
              "#bd3786"
             ],
             [
              0.5555555555555556,
              "#d8576b"
             ],
             [
              0.6666666666666666,
              "#ed7953"
             ],
             [
              0.7777777777777778,
              "#fb9f3a"
             ],
             [
              0.8888888888888888,
              "#fdca26"
             ],
             [
              1,
              "#f0f921"
             ]
            ],
            "type": "heatmap"
           }
          ],
          "histogram": [
           {
            "marker": {
             "pattern": {
              "fillmode": "overlay",
              "size": 10,
              "solidity": 0.2
             }
            },
            "type": "histogram"
           }
          ],
          "histogram2d": [
           {
            "colorbar": {
             "outlinewidth": 0,
             "ticks": ""
            },
            "colorscale": [
             [
              0,
              "#0d0887"
             ],
             [
              0.1111111111111111,
              "#46039f"
             ],
             [
              0.2222222222222222,
              "#7201a8"
             ],
             [
              0.3333333333333333,
              "#9c179e"
             ],
             [
              0.4444444444444444,
              "#bd3786"
             ],
             [
              0.5555555555555556,
              "#d8576b"
             ],
             [
              0.6666666666666666,
              "#ed7953"
             ],
             [
              0.7777777777777778,
              "#fb9f3a"
             ],
             [
              0.8888888888888888,
              "#fdca26"
             ],
             [
              1,
              "#f0f921"
             ]
            ],
            "type": "histogram2d"
           }
          ],
          "histogram2dcontour": [
           {
            "colorbar": {
             "outlinewidth": 0,
             "ticks": ""
            },
            "colorscale": [
             [
              0,
              "#0d0887"
             ],
             [
              0.1111111111111111,
              "#46039f"
             ],
             [
              0.2222222222222222,
              "#7201a8"
             ],
             [
              0.3333333333333333,
              "#9c179e"
             ],
             [
              0.4444444444444444,
              "#bd3786"
             ],
             [
              0.5555555555555556,
              "#d8576b"
             ],
             [
              0.6666666666666666,
              "#ed7953"
             ],
             [
              0.7777777777777778,
              "#fb9f3a"
             ],
             [
              0.8888888888888888,
              "#fdca26"
             ],
             [
              1,
              "#f0f921"
             ]
            ],
            "type": "histogram2dcontour"
           }
          ],
          "mesh3d": [
           {
            "colorbar": {
             "outlinewidth": 0,
             "ticks": ""
            },
            "type": "mesh3d"
           }
          ],
          "parcoords": [
           {
            "line": {
             "colorbar": {
              "outlinewidth": 0,
              "ticks": ""
             }
            },
            "type": "parcoords"
           }
          ],
          "pie": [
           {
            "automargin": true,
            "type": "pie"
           }
          ],
          "scatter": [
           {
            "fillpattern": {
             "fillmode": "overlay",
             "size": 10,
             "solidity": 0.2
            },
            "type": "scatter"
           }
          ],
          "scatter3d": [
           {
            "line": {
             "colorbar": {
              "outlinewidth": 0,
              "ticks": ""
             }
            },
            "marker": {
             "colorbar": {
              "outlinewidth": 0,
              "ticks": ""
             }
            },
            "type": "scatter3d"
           }
          ],
          "scattercarpet": [
           {
            "marker": {
             "colorbar": {
              "outlinewidth": 0,
              "ticks": ""
             }
            },
            "type": "scattercarpet"
           }
          ],
          "scattergeo": [
           {
            "marker": {
             "colorbar": {
              "outlinewidth": 0,
              "ticks": ""
             }
            },
            "type": "scattergeo"
           }
          ],
          "scattergl": [
           {
            "marker": {
             "colorbar": {
              "outlinewidth": 0,
              "ticks": ""
             }
            },
            "type": "scattergl"
           }
          ],
          "scattermap": [
           {
            "marker": {
             "colorbar": {
              "outlinewidth": 0,
              "ticks": ""
             }
            },
            "type": "scattermap"
           }
          ],
          "scattermapbox": [
           {
            "marker": {
             "colorbar": {
              "outlinewidth": 0,
              "ticks": ""
             }
            },
            "type": "scattermapbox"
           }
          ],
          "scatterpolar": [
           {
            "marker": {
             "colorbar": {
              "outlinewidth": 0,
              "ticks": ""
             }
            },
            "type": "scatterpolar"
           }
          ],
          "scatterpolargl": [
           {
            "marker": {
             "colorbar": {
              "outlinewidth": 0,
              "ticks": ""
             }
            },
            "type": "scatterpolargl"
           }
          ],
          "scatterternary": [
           {
            "marker": {
             "colorbar": {
              "outlinewidth": 0,
              "ticks": ""
             }
            },
            "type": "scatterternary"
           }
          ],
          "surface": [
           {
            "colorbar": {
             "outlinewidth": 0,
             "ticks": ""
            },
            "colorscale": [
             [
              0,
              "#0d0887"
             ],
             [
              0.1111111111111111,
              "#46039f"
             ],
             [
              0.2222222222222222,
              "#7201a8"
             ],
             [
              0.3333333333333333,
              "#9c179e"
             ],
             [
              0.4444444444444444,
              "#bd3786"
             ],
             [
              0.5555555555555556,
              "#d8576b"
             ],
             [
              0.6666666666666666,
              "#ed7953"
             ],
             [
              0.7777777777777778,
              "#fb9f3a"
             ],
             [
              0.8888888888888888,
              "#fdca26"
             ],
             [
              1,
              "#f0f921"
             ]
            ],
            "type": "surface"
           }
          ],
          "table": [
           {
            "cells": {
             "fill": {
              "color": "#EBF0F8"
             },
             "line": {
              "color": "white"
             }
            },
            "header": {
             "fill": {
              "color": "#C8D4E3"
             },
             "line": {
              "color": "white"
             }
            },
            "type": "table"
           }
          ]
         },
         "layout": {
          "annotationdefaults": {
           "arrowcolor": "#2a3f5f",
           "arrowhead": 0,
           "arrowwidth": 1
          },
          "autotypenumbers": "strict",
          "coloraxis": {
           "colorbar": {
            "outlinewidth": 0,
            "ticks": ""
           }
          },
          "colorscale": {
           "diverging": [
            [
             0,
             "#8e0152"
            ],
            [
             0.1,
             "#c51b7d"
            ],
            [
             0.2,
             "#de77ae"
            ],
            [
             0.3,
             "#f1b6da"
            ],
            [
             0.4,
             "#fde0ef"
            ],
            [
             0.5,
             "#f7f7f7"
            ],
            [
             0.6,
             "#e6f5d0"
            ],
            [
             0.7,
             "#b8e186"
            ],
            [
             0.8,
             "#7fbc41"
            ],
            [
             0.9,
             "#4d9221"
            ],
            [
             1,
             "#276419"
            ]
           ],
           "sequential": [
            [
             0,
             "#0d0887"
            ],
            [
             0.1111111111111111,
             "#46039f"
            ],
            [
             0.2222222222222222,
             "#7201a8"
            ],
            [
             0.3333333333333333,
             "#9c179e"
            ],
            [
             0.4444444444444444,
             "#bd3786"
            ],
            [
             0.5555555555555556,
             "#d8576b"
            ],
            [
             0.6666666666666666,
             "#ed7953"
            ],
            [
             0.7777777777777778,
             "#fb9f3a"
            ],
            [
             0.8888888888888888,
             "#fdca26"
            ],
            [
             1,
             "#f0f921"
            ]
           ],
           "sequentialminus": [
            [
             0,
             "#0d0887"
            ],
            [
             0.1111111111111111,
             "#46039f"
            ],
            [
             0.2222222222222222,
             "#7201a8"
            ],
            [
             0.3333333333333333,
             "#9c179e"
            ],
            [
             0.4444444444444444,
             "#bd3786"
            ],
            [
             0.5555555555555556,
             "#d8576b"
            ],
            [
             0.6666666666666666,
             "#ed7953"
            ],
            [
             0.7777777777777778,
             "#fb9f3a"
            ],
            [
             0.8888888888888888,
             "#fdca26"
            ],
            [
             1,
             "#f0f921"
            ]
           ]
          },
          "colorway": [
           "#636efa",
           "#EF553B",
           "#00cc96",
           "#ab63fa",
           "#FFA15A",
           "#19d3f3",
           "#FF6692",
           "#B6E880",
           "#FF97FF",
           "#FECB52"
          ],
          "font": {
           "color": "#2a3f5f"
          },
          "geo": {
           "bgcolor": "white",
           "lakecolor": "white",
           "landcolor": "#E5ECF6",
           "showlakes": true,
           "showland": true,
           "subunitcolor": "white"
          },
          "hoverlabel": {
           "align": "left"
          },
          "hovermode": "closest",
          "mapbox": {
           "style": "light"
          },
          "paper_bgcolor": "white",
          "plot_bgcolor": "#E5ECF6",
          "polar": {
           "angularaxis": {
            "gridcolor": "white",
            "linecolor": "white",
            "ticks": ""
           },
           "bgcolor": "#E5ECF6",
           "radialaxis": {
            "gridcolor": "white",
            "linecolor": "white",
            "ticks": ""
           }
          },
          "scene": {
           "xaxis": {
            "backgroundcolor": "#E5ECF6",
            "gridcolor": "white",
            "gridwidth": 2,
            "linecolor": "white",
            "showbackground": true,
            "ticks": "",
            "zerolinecolor": "white"
           },
           "yaxis": {
            "backgroundcolor": "#E5ECF6",
            "gridcolor": "white",
            "gridwidth": 2,
            "linecolor": "white",
            "showbackground": true,
            "ticks": "",
            "zerolinecolor": "white"
           },
           "zaxis": {
            "backgroundcolor": "#E5ECF6",
            "gridcolor": "white",
            "gridwidth": 2,
            "linecolor": "white",
            "showbackground": true,
            "ticks": "",
            "zerolinecolor": "white"
           }
          },
          "shapedefaults": {
           "line": {
            "color": "#2a3f5f"
           }
          },
          "ternary": {
           "aaxis": {
            "gridcolor": "white",
            "linecolor": "white",
            "ticks": ""
           },
           "baxis": {
            "gridcolor": "white",
            "linecolor": "white",
            "ticks": ""
           },
           "bgcolor": "#E5ECF6",
           "caxis": {
            "gridcolor": "white",
            "linecolor": "white",
            "ticks": ""
           }
          },
          "title": {
           "x": 0.05
          },
          "xaxis": {
           "automargin": true,
           "gridcolor": "white",
           "linecolor": "white",
           "ticks": "",
           "title": {
            "standoff": 15
           },
           "zerolinecolor": "white",
           "zerolinewidth": 2
          },
          "yaxis": {
           "automargin": true,
           "gridcolor": "white",
           "linecolor": "white",
           "ticks": "",
           "title": {
            "standoff": 15
           },
           "zerolinecolor": "white",
           "zerolinewidth": 2
          }
         }
        },
        "title": {
         "text": "Charges Distribution by Smoking Status"
        },
        "xaxis": {
         "anchor": "y",
         "domain": [
          0,
          1
         ],
         "title": {
          "text": "charges"
         }
        },
        "yaxis": {
         "anchor": "x",
         "domain": [
          0,
          1
         ],
         "title": {
          "text": "count"
         }
        }
       }
      }
     },
     "metadata": {},
     "output_type": "display_data"
    },
    {
     "data": {
      "application/vnd.plotly.v1+json": {
       "config": {
        "plotlyServerURL": "https://plot.ly"
       },
       "data": [
        {
         "bingroup": "x",
         "hovertemplate": "children=%{x}<br>count=%{y}<extra></extra>",
         "legendgroup": "",
         "marker": {
          "color": "#636efa",
          "pattern": {
           "shape": ""
          }
         },
         "name": "",
         "nbinsx": 7,
         "orientation": "v",
         "showlegend": false,
         "type": "histogram",
         "x": {
          "bdata": "AAEDAAAAAQMCAAAAAAAAAQEAAAAAAQABAgMAAgECAAAFAAEAAwABAAACAQIBAAIAAAEAAgEAAwICAgECAwQBAQAAAgEAAwAFAwECAAEAAAABAAEEAgIAAAAAAAEDAgIBAwAAAAAAAAMBAQECAAABAgAAAwAAAQACAgAAAQMAAAACAgAAAgAAAAAAAwACAQICAwMDAQEBAQADAAEAAAAAAwAAAQIABAUDAQMAAAABAAACAQIDAAADAAIDAgMBAgAAAAEAAAACAAAAAQAAAAEAAgABAQQCAQICAAABAAEAAwAAAwAAAQIBAwABAgIAAgABAgEBAwAAAAABAQICAgMAAwAABAAAAQMAAwMBAwEBAQICAQACAgACAQEDAQEAAQIAAQMAAQIAAwAAAQMBAwMCAgICAgEAAgAAAwAAAAAAAAEBBAAAAAEBAgEAAQAAAAIAAAEBAQAAAAAEAwIBAQAAAAAAAAADAwAAAgEAAQIBAwICAwAAAQIAAAMAAwECAAACAgAAAgADBAABAQIAAwACAAABAAMAAgABAwEAAQIFAAEAAgEAAAABAAIFAQABAwACAAABAwADBQABAAABAQAAAAABBAEAAAIAAgAAAwMAAgAAAQECAQEAAAAAAwEAAAAAAwIAAQMAAwAAAQAAAAAEAAICAgAAAAEAAQMBAgAAAQAAAAEAAQIBAAAAAAABAAIBAQABAAIAAAEDAgEAAwIAAAACAAIAAAAAAAIAAgEAAwACAAABAgABAgUCAAECAQIAAAEBAAEAAgEAAQMBAAEAAQIBAAECAQICAAAAAwAAAAACAgECAAMAAQACAAABBAEAAAADAQAAAQAAAgEAAQIABAUDAAMCAwEDAAACAQACAAIBAgEEAwEBAAACAQIAAQMAAAACAAMDAwIBAAIAAQICAAEBAAEBAAEAAgEAAgAAAAEBAgADAwABAgIAAAABAQIAAAMAAAEDAQEAAQMBAwEDAQACAwICAAAAAAECAAEAAAAAAAQCAwADAAIBAQACAAEBAAIDAgAAAgMCAAMAAwABAQEDAAADAAAAAAACAAIBAAABAAEAAAABAAABAwMCAgIAAAMBAAEAAAIAAgIBAwEAAAIAAQIAAAIAAAACAAAAAQEAAAACAAIDAAAAAQACAwIAAAIAAQADAAEAAQMAAQUBAgMBAAMEAQAAAAEABAACAAACAQAAAAADAAACAwEDAAEAAwECAAAAAAEAAAEAAAICAQABAQEFAAIAAgUCAAABAAAAAQIBAAMAAgECAQEBAQEBAQABAwIBAgECBQMAAAAAAAABAwABAAMBBQEDAQAAAQICAQMDAwADAAIAAAABAgIDAgEAAgQBAAABAgMCAAMBAQEAAQAAAgEAAAAAAwIBAAIAAAAAAQIAAQEAAQABAwAAAAAAAQABAQMEAQIAAQEBAAACAAEBAAADAgEBAQIFAAABAAAAAwAEBAIAAAECAwEAAAAAAgEDAQMDAwABBQIBAwACAwEBAAACAQAFAgAAAAMBAAAAAQMAAgIDAAABAAAAAwEEAwACAAABAgEAAQAAAgIBAQIAAgIAAQEAAAEAAAEBAgMAAQACAQEAAAMAAAECAgIAAQMBAgIBAQECAAIBAAACAQMBAgAAAQECAgAAAwADAAIAAAADAQICAwAABQMEAAEAAAAEAAADAQMAAAEBAQIAAAAAAwEABQEAAAAAAQIAAgABAQAAAQIBAgAAAwABAAICAQADAQACAAAEAAIBAAECAwEAAAQCAwAAAgEAAAECAgIAAwMAAAAA",
          "dtype": "i1"
         },
         "xaxis": "x",
         "yaxis": "y"
        }
       ],
       "layout": {
        "barmode": "relative",
        "legend": {
         "tracegroupgap": 0
        },
        "template": {
         "data": {
          "bar": [
           {
            "error_x": {
             "color": "#2a3f5f"
            },
            "error_y": {
             "color": "#2a3f5f"
            },
            "marker": {
             "line": {
              "color": "#E5ECF6",
              "width": 0.5
             },
             "pattern": {
              "fillmode": "overlay",
              "size": 10,
              "solidity": 0.2
             }
            },
            "type": "bar"
           }
          ],
          "barpolar": [
           {
            "marker": {
             "line": {
              "color": "#E5ECF6",
              "width": 0.5
             },
             "pattern": {
              "fillmode": "overlay",
              "size": 10,
              "solidity": 0.2
             }
            },
            "type": "barpolar"
           }
          ],
          "carpet": [
           {
            "aaxis": {
             "endlinecolor": "#2a3f5f",
             "gridcolor": "white",
             "linecolor": "white",
             "minorgridcolor": "white",
             "startlinecolor": "#2a3f5f"
            },
            "baxis": {
             "endlinecolor": "#2a3f5f",
             "gridcolor": "white",
             "linecolor": "white",
             "minorgridcolor": "white",
             "startlinecolor": "#2a3f5f"
            },
            "type": "carpet"
           }
          ],
          "choropleth": [
           {
            "colorbar": {
             "outlinewidth": 0,
             "ticks": ""
            },
            "type": "choropleth"
           }
          ],
          "contour": [
           {
            "colorbar": {
             "outlinewidth": 0,
             "ticks": ""
            },
            "colorscale": [
             [
              0,
              "#0d0887"
             ],
             [
              0.1111111111111111,
              "#46039f"
             ],
             [
              0.2222222222222222,
              "#7201a8"
             ],
             [
              0.3333333333333333,
              "#9c179e"
             ],
             [
              0.4444444444444444,
              "#bd3786"
             ],
             [
              0.5555555555555556,
              "#d8576b"
             ],
             [
              0.6666666666666666,
              "#ed7953"
             ],
             [
              0.7777777777777778,
              "#fb9f3a"
             ],
             [
              0.8888888888888888,
              "#fdca26"
             ],
             [
              1,
              "#f0f921"
             ]
            ],
            "type": "contour"
           }
          ],
          "contourcarpet": [
           {
            "colorbar": {
             "outlinewidth": 0,
             "ticks": ""
            },
            "type": "contourcarpet"
           }
          ],
          "heatmap": [
           {
            "colorbar": {
             "outlinewidth": 0,
             "ticks": ""
            },
            "colorscale": [
             [
              0,
              "#0d0887"
             ],
             [
              0.1111111111111111,
              "#46039f"
             ],
             [
              0.2222222222222222,
              "#7201a8"
             ],
             [
              0.3333333333333333,
              "#9c179e"
             ],
             [
              0.4444444444444444,
              "#bd3786"
             ],
             [
              0.5555555555555556,
              "#d8576b"
             ],
             [
              0.6666666666666666,
              "#ed7953"
             ],
             [
              0.7777777777777778,
              "#fb9f3a"
             ],
             [
              0.8888888888888888,
              "#fdca26"
             ],
             [
              1,
              "#f0f921"
             ]
            ],
            "type": "heatmap"
           }
          ],
          "histogram": [
           {
            "marker": {
             "pattern": {
              "fillmode": "overlay",
              "size": 10,
              "solidity": 0.2
             }
            },
            "type": "histogram"
           }
          ],
          "histogram2d": [
           {
            "colorbar": {
             "outlinewidth": 0,
             "ticks": ""
            },
            "colorscale": [
             [
              0,
              "#0d0887"
             ],
             [
              0.1111111111111111,
              "#46039f"
             ],
             [
              0.2222222222222222,
              "#7201a8"
             ],
             [
              0.3333333333333333,
              "#9c179e"
             ],
             [
              0.4444444444444444,
              "#bd3786"
             ],
             [
              0.5555555555555556,
              "#d8576b"
             ],
             [
              0.6666666666666666,
              "#ed7953"
             ],
             [
              0.7777777777777778,
              "#fb9f3a"
             ],
             [
              0.8888888888888888,
              "#fdca26"
             ],
             [
              1,
              "#f0f921"
             ]
            ],
            "type": "histogram2d"
           }
          ],
          "histogram2dcontour": [
           {
            "colorbar": {
             "outlinewidth": 0,
             "ticks": ""
            },
            "colorscale": [
             [
              0,
              "#0d0887"
             ],
             [
              0.1111111111111111,
              "#46039f"
             ],
             [
              0.2222222222222222,
              "#7201a8"
             ],
             [
              0.3333333333333333,
              "#9c179e"
             ],
             [
              0.4444444444444444,
              "#bd3786"
             ],
             [
              0.5555555555555556,
              "#d8576b"
             ],
             [
              0.6666666666666666,
              "#ed7953"
             ],
             [
              0.7777777777777778,
              "#fb9f3a"
             ],
             [
              0.8888888888888888,
              "#fdca26"
             ],
             [
              1,
              "#f0f921"
             ]
            ],
            "type": "histogram2dcontour"
           }
          ],
          "mesh3d": [
           {
            "colorbar": {
             "outlinewidth": 0,
             "ticks": ""
            },
            "type": "mesh3d"
           }
          ],
          "parcoords": [
           {
            "line": {
             "colorbar": {
              "outlinewidth": 0,
              "ticks": ""
             }
            },
            "type": "parcoords"
           }
          ],
          "pie": [
           {
            "automargin": true,
            "type": "pie"
           }
          ],
          "scatter": [
           {
            "fillpattern": {
             "fillmode": "overlay",
             "size": 10,
             "solidity": 0.2
            },
            "type": "scatter"
           }
          ],
          "scatter3d": [
           {
            "line": {
             "colorbar": {
              "outlinewidth": 0,
              "ticks": ""
             }
            },
            "marker": {
             "colorbar": {
              "outlinewidth": 0,
              "ticks": ""
             }
            },
            "type": "scatter3d"
           }
          ],
          "scattercarpet": [
           {
            "marker": {
             "colorbar": {
              "outlinewidth": 0,
              "ticks": ""
             }
            },
            "type": "scattercarpet"
           }
          ],
          "scattergeo": [
           {
            "marker": {
             "colorbar": {
              "outlinewidth": 0,
              "ticks": ""
             }
            },
            "type": "scattergeo"
           }
          ],
          "scattergl": [
           {
            "marker": {
             "colorbar": {
              "outlinewidth": 0,
              "ticks": ""
             }
            },
            "type": "scattergl"
           }
          ],
          "scattermap": [
           {
            "marker": {
             "colorbar": {
              "outlinewidth": 0,
              "ticks": ""
             }
            },
            "type": "scattermap"
           }
          ],
          "scattermapbox": [
           {
            "marker": {
             "colorbar": {
              "outlinewidth": 0,
              "ticks": ""
             }
            },
            "type": "scattermapbox"
           }
          ],
          "scatterpolar": [
           {
            "marker": {
             "colorbar": {
              "outlinewidth": 0,
              "ticks": ""
             }
            },
            "type": "scatterpolar"
           }
          ],
          "scatterpolargl": [
           {
            "marker": {
             "colorbar": {
              "outlinewidth": 0,
              "ticks": ""
             }
            },
            "type": "scatterpolargl"
           }
          ],
          "scatterternary": [
           {
            "marker": {
             "colorbar": {
              "outlinewidth": 0,
              "ticks": ""
             }
            },
            "type": "scatterternary"
           }
          ],
          "surface": [
           {
            "colorbar": {
             "outlinewidth": 0,
             "ticks": ""
            },
            "colorscale": [
             [
              0,
              "#0d0887"
             ],
             [
              0.1111111111111111,
              "#46039f"
             ],
             [
              0.2222222222222222,
              "#7201a8"
             ],
             [
              0.3333333333333333,
              "#9c179e"
             ],
             [
              0.4444444444444444,
              "#bd3786"
             ],
             [
              0.5555555555555556,
              "#d8576b"
             ],
             [
              0.6666666666666666,
              "#ed7953"
             ],
             [
              0.7777777777777778,
              "#fb9f3a"
             ],
             [
              0.8888888888888888,
              "#fdca26"
             ],
             [
              1,
              "#f0f921"
             ]
            ],
            "type": "surface"
           }
          ],
          "table": [
           {
            "cells": {
             "fill": {
              "color": "#EBF0F8"
             },
             "line": {
              "color": "white"
             }
            },
            "header": {
             "fill": {
              "color": "#C8D4E3"
             },
             "line": {
              "color": "white"
             }
            },
            "type": "table"
           }
          ]
         },
         "layout": {
          "annotationdefaults": {
           "arrowcolor": "#2a3f5f",
           "arrowhead": 0,
           "arrowwidth": 1
          },
          "autotypenumbers": "strict",
          "coloraxis": {
           "colorbar": {
            "outlinewidth": 0,
            "ticks": ""
           }
          },
          "colorscale": {
           "diverging": [
            [
             0,
             "#8e0152"
            ],
            [
             0.1,
             "#c51b7d"
            ],
            [
             0.2,
             "#de77ae"
            ],
            [
             0.3,
             "#f1b6da"
            ],
            [
             0.4,
             "#fde0ef"
            ],
            [
             0.5,
             "#f7f7f7"
            ],
            [
             0.6,
             "#e6f5d0"
            ],
            [
             0.7,
             "#b8e186"
            ],
            [
             0.8,
             "#7fbc41"
            ],
            [
             0.9,
             "#4d9221"
            ],
            [
             1,
             "#276419"
            ]
           ],
           "sequential": [
            [
             0,
             "#0d0887"
            ],
            [
             0.1111111111111111,
             "#46039f"
            ],
            [
             0.2222222222222222,
             "#7201a8"
            ],
            [
             0.3333333333333333,
             "#9c179e"
            ],
            [
             0.4444444444444444,
             "#bd3786"
            ],
            [
             0.5555555555555556,
             "#d8576b"
            ],
            [
             0.6666666666666666,
             "#ed7953"
            ],
            [
             0.7777777777777778,
             "#fb9f3a"
            ],
            [
             0.8888888888888888,
             "#fdca26"
            ],
            [
             1,
             "#f0f921"
            ]
           ],
           "sequentialminus": [
            [
             0,
             "#0d0887"
            ],
            [
             0.1111111111111111,
             "#46039f"
            ],
            [
             0.2222222222222222,
             "#7201a8"
            ],
            [
             0.3333333333333333,
             "#9c179e"
            ],
            [
             0.4444444444444444,
             "#bd3786"
            ],
            [
             0.5555555555555556,
             "#d8576b"
            ],
            [
             0.6666666666666666,
             "#ed7953"
            ],
            [
             0.7777777777777778,
             "#fb9f3a"
            ],
            [
             0.8888888888888888,
             "#fdca26"
            ],
            [
             1,
             "#f0f921"
            ]
           ]
          },
          "colorway": [
           "#636efa",
           "#EF553B",
           "#00cc96",
           "#ab63fa",
           "#FFA15A",
           "#19d3f3",
           "#FF6692",
           "#B6E880",
           "#FF97FF",
           "#FECB52"
          ],
          "font": {
           "color": "#2a3f5f"
          },
          "geo": {
           "bgcolor": "white",
           "lakecolor": "white",
           "landcolor": "#E5ECF6",
           "showlakes": true,
           "showland": true,
           "subunitcolor": "white"
          },
          "hoverlabel": {
           "align": "left"
          },
          "hovermode": "closest",
          "mapbox": {
           "style": "light"
          },
          "paper_bgcolor": "white",
          "plot_bgcolor": "#E5ECF6",
          "polar": {
           "angularaxis": {
            "gridcolor": "white",
            "linecolor": "white",
            "ticks": ""
           },
           "bgcolor": "#E5ECF6",
           "radialaxis": {
            "gridcolor": "white",
            "linecolor": "white",
            "ticks": ""
           }
          },
          "scene": {
           "xaxis": {
            "backgroundcolor": "#E5ECF6",
            "gridcolor": "white",
            "gridwidth": 2,
            "linecolor": "white",
            "showbackground": true,
            "ticks": "",
            "zerolinecolor": "white"
           },
           "yaxis": {
            "backgroundcolor": "#E5ECF6",
            "gridcolor": "white",
            "gridwidth": 2,
            "linecolor": "white",
            "showbackground": true,
            "ticks": "",
            "zerolinecolor": "white"
           },
           "zaxis": {
            "backgroundcolor": "#E5ECF6",
            "gridcolor": "white",
            "gridwidth": 2,
            "linecolor": "white",
            "showbackground": true,
            "ticks": "",
            "zerolinecolor": "white"
           }
          },
          "shapedefaults": {
           "line": {
            "color": "#2a3f5f"
           }
          },
          "ternary": {
           "aaxis": {
            "gridcolor": "white",
            "linecolor": "white",
            "ticks": ""
           },
           "baxis": {
            "gridcolor": "white",
            "linecolor": "white",
            "ticks": ""
           },
           "bgcolor": "#E5ECF6",
           "caxis": {
            "gridcolor": "white",
            "linecolor": "white",
            "ticks": ""
           }
          },
          "title": {
           "x": 0.05
          },
          "xaxis": {
           "automargin": true,
           "gridcolor": "white",
           "linecolor": "white",
           "ticks": "",
           "title": {
            "standoff": 15
           },
           "zerolinecolor": "white",
           "zerolinewidth": 2
          },
          "yaxis": {
           "automargin": true,
           "gridcolor": "white",
           "linecolor": "white",
           "ticks": "",
           "title": {
            "standoff": 15
           },
           "zerolinecolor": "white",
           "zerolinewidth": 2
          }
         }
        },
        "title": {
         "text": "Distribution of Number of Children"
        },
        "xaxis": {
         "anchor": "y",
         "domain": [
          0,
          1
         ],
         "title": {
          "text": "children"
         }
        },
        "yaxis": {
         "anchor": "x",
         "domain": [
          0,
          1
         ],
         "title": {
          "text": "count"
         }
        }
       }
      }
     },
     "metadata": {},
     "output_type": "display_data"
    },
    {
     "data": {
      "application/vnd.plotly.v1+json": {
       "config": {
        "plotlyServerURL": "https://plot.ly"
       },
       "data": [
        {
         "bingroup": "x",
         "hovertemplate": "region=southwest<br>charges=%{x}<br>count=%{y}<extra></extra>",
         "legendgroup": "southwest",
         "marker": {
          "color": "#636efa",
          "opacity": 0.7,
          "pattern": {
           "shape": ""
          }
         },
         "name": "southwest",
         "nbinsx": 20,
         "orientation": "v",
         "showlegend": true,
         "type": "histogram",
         "x": {
          "bdata": "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",
          "dtype": "f8"
         },
         "xaxis": "x",
         "yaxis": "y"
        },
        {
         "bingroup": "x",
         "hovertemplate": "region=southeast<br>charges=%{x}<br>count=%{y}<extra></extra>",
         "legendgroup": "southeast",
         "marker": {
          "color": "#EF553B",
          "opacity": 0.7,
          "pattern": {
           "shape": ""
          }
         },
         "name": "southeast",
         "nbinsx": 20,
         "orientation": "v",
         "showlegend": true,
         "type": "histogram",
         "x": {
          "bdata": "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",
          "dtype": "f8"
         },
         "xaxis": "x",
         "yaxis": "y"
        },
        {
         "bingroup": "x",
         "hovertemplate": "region=northwest<br>charges=%{x}<br>count=%{y}<extra></extra>",
         "legendgroup": "northwest",
         "marker": {
          "color": "#00cc96",
          "opacity": 0.7,
          "pattern": {
           "shape": ""
          }
         },
         "name": "northwest",
         "nbinsx": 20,
         "orientation": "v",
         "showlegend": true,
         "type": "histogram",
         "x": {
          "bdata": "y2d5Hh541UAUP8bctTWuQNxoAG+BcbxAixpMw8g+3EArhxbZ5ju4QHNoke1Q9sdA2ht8YWKupUAkufyHDOXKQI/C9Si8ZZlAV1uxvxh+zkA0orQ32MmrQGTMXUuo96tAt2J/2a17v0BwzojSDzHnQI0o7Q2GZbdAWOcYkKd13UB6pSxDpCWwQGKh1jTfu8xAyxDHumD1uED3Bl+YVC7GQKg1zTsGq7lA4umVstSMxUCWIY51o5rUQLyWkA9eR+VAgy9Mpqpav0CgibDhSaXFQLivA+cQX8VAqz5XWwFhtkCq8dJNGCbRQJ7vp8abSq5Af9k9eaAkxUCcM6K0d8miQMRCrWluHrpA2c73U/OioUBJLv8hgcHDQNDVVuyL999A6Ugu/0GCmUBWDi2yvfafQNNNYhB4u9FAHhZqTX9C1EAPnDOiEeLjQET67evYZ8VAv30dODcFtEAJ+aBnsyS7QL6fGi8t2dRAmN2ThyWks0Ay5q4lzPC3QB1aZDuPPqVAu7iNBuBOpkDlYaHW3De5QMbctYTw68ZAwoanV3r7vEBoImx46jqzQJ7vp8YrhsdAg1FJnUCemUAfhetRINbCQLyWkA9apaBAKA8LtRpqyUDD9Shct+K/QC2yne9no6tAXrpJDNI5xECxv+yepBO9QBrAWyAxNrpA3gIJiivy0EA0aOifHufXQInS3uAlcuVAQYLixwyAxkAf9GxWyXrgQEVHcvlsr+FAcT0K17NhvEBYObTIVrajQAdfmExl56VAVp+rrRjYy0DarPpcS+viQH2utmK/EMJAyXa+n5b80kAYldQJKEW+QIqw4emhQcFAcF8HzjH9vEAU0ETYwB6zQAK8BRIQ4eRAQs9m1WfS10AkufyHhDrKQGQ730/VOMtAEhQ/xgwUykDXEvJB746ZQBHHurhNG8dAZapgVCrKwkAnwoanD1G/QIiFWtNEtL9A/fZ14IQzykBz1xLyfZzRQB4Wak3tEdBAU9DtJSmT3UCdEaW9odGoQPOOU3QUCrJAqFfKMiS0oEBCPujZtGa9QMrDQq1VssxAFK5H4boOxEBmiGNdXFWZQLByaJHNraBA0m9fB55F3EBhVFInMF3SQM6I0t5oKrNAAU2EDZeTsEDKVMGoRIKyQDC7Jw9Vf9lAbxKDwAJfxkBLyAc9e4CvQKyL22ggpptAYqHWNGMgx0DsUbgeJYCZQDcawFuwschA9GxWfSox3ECamZmZycyjQI/C9SiYYc5Ai/1l96xdyEDarPpc/W7EQEa28/3cjLpA9P3UeImmpECJQWDlMAqoQDXvOEW7bsBARKM7iOt+10CjI7n8v/vDQNuK/WXPP9dApN++DtTZxUD35GGh7YXjQF3cRgO4uZlA2c73U+v0wUDi6ZWy3KCgQG1Wfa6O5bhAveMUHblYvEDiWBe3wFDmQACRfvty38dAg1FJnUCemUAB3gIJ/HTlQM6I0t4IdsBAqg65Gf9X4EDarPpcEevBQKK0N/g+D9FA5fIf0rET2UBrmneczrDHQOeMKO3tMK1AJzEIrO785EDY8PRKOSqlQInvxKxuAuBAvAUSFJ9ysUD3deCckeu3QBIUP8Zsta9Ag8DKoWqI40B7FK5HyTa8QCuHFtlQhuZAHcnlP2TWw0AgQfFjvEPDQEymCkZ1dKJAn6ut2O9hokA7AU2EfQKpQH9qvHQfcMVAUkmdgFYJtUA9m1Wfd3HBQMiYu5Y4DMRAOGdEaWs7wEDOqs/Vfq/CQE8eFmpNnMlA7Q2+MBEwxUBq3nGKzuPHQLFQa5qvCLpAwoanV/K3wkC30QDemj3BQLyWkA8uW8NABaOSOiFtmUBiEFg5BO2nQCuHFtluyZ1AJXUCmkTBy0BxPQrXTyHHQHWTGAQ+FbtAT6+UZSBV0UBWDi2yvV28QFCNl26ySrtAnDOitOdGw0AwTKYKRvWdQCzUmuZ9KbxAaJHtfK/h0UDgvg6c2zO+QDl/Ewovz9tAy6FFtsOxoEBO0ZFc/ti4QN0kBoGFNaZAAtnr3ezr6kAwTKYK5vGkQE8eFmrNdchA30+Nl37lt0BrK/aXXZK0QN5xio68b7JAmbuWkPfvxkAcfGEydQG1QNEi2/kWp8hAc2iR7dC0xEDD9Shcz5PLQNXnaiv+5M5AMuauJdj2x0CSXP5DOgSlQJVliGMdyqVAvsEXJvsNs0CjkjoBLZi0QBdIUPyQVMdARPrt676k3EB0JJf/IFuhQIBIv32tiqBA/yH99hWepECdgCbCWhfMQAHeAgmCibRAmggbnpRD1UCQMXctaeCwQOXQItvlgsFAvw6cM+JxmUD7XG3Fxta4QM6qz9Uur7FAx7q4jWiK00BzEd+J8aDIQK1RD9E6zdtAv30dODdUpUBnYU87xtjZQK8l5IPYZ9dA9GxWfQZevUC+wRcmo7+jQOlILv8FbcBAdk8eFgyt20APC7WmHwnQQDlFR3LRk7RAXkvIB3H00ECppE5AY1GxQNUJaCLOVNhAWmQ7358ewUBGlPYGf67HQLivA+d8KqVABaOSOqVnyECM1lHVvGjZQO/Jw0K5ENBA5nlwd9gW1UADeAskUivVQL3jFB0JS8lA9pfdk7Bl40DJsIo3avfVQBBYObS2wtNArkfhejRe1UALtaZ5VxSsQD7o2awiV79Anl4py/AyqkCoV8oyQLHEQEGC4se4brFAFvvL7jGUuUDarPpc7QbMQBpR2hsc1p1AvAUSFGdmsUCkcD0K59+2QKqCUUnhVc1ASS7/IZ0sxkDHSzeJcY7gQB+F61EUjsFAR3L5D/l+xEA6I0p7K8C0QO58PzVuPbZAeAskKK7I5kC3Yn/ZTdfLQFkXt9GEg8NAkq6ZfFU200ClLEMcy6bFQB4Wak2T0KhAKzBkdVcE4kCLbOf7jQzGQO7rwDkjq6FAZ9Xnauvlx0B5WKg1df61QE7RkVyWg8VAaLPqcwktzEBZF7fRQC++QEHxY8yN8btAIGPuWlrgt0By+Q/p1zm5QGgibHjqUbFAxEKtaepT10BI4XoUXkWmQAAAAAArS+JAMEymCmYKy0A5tMh2Zs+0QK5H4XqY78BAjnVxGxUmsEDg88MIrWXSQFRSJ6BxQ+BAxf6ye5r5uEAi/fZ1wDa4QE5iEFidDsFA8fRKWaYOoEDr4jYagPyzQJHtfD9d/bRAmSoYlSTorkDQs1n1KXG9QMO7XMSsTu1AQKTfvtpfyEBdbcX+IhelQOcdp+gs4MdArfpcbUXIsEDF/rJ7XlbGQD2bVZ/3FMZA7C+7J+Vb3UCSy39ID7mpQB6n6Eiem6dAeHqlLAsFsUAtIR/0HF2wQCgPC7Xs9ddArK3YX/IqwkAbDeAteI20QDSitDeoLaVAYhBYOcXP5kBVwaikHvjUQET67evoHLtAnRGlvWnbsUDSb18HeFPSQGfV52qzIbxAXf5D+gUxtUDG3LWE5I+wQDPEsS5GtMRAMLsnD1d13EA=",
          "dtype": "f8"
         },
         "xaxis": "x",
         "yaxis": "y"
        },
        {
         "bingroup": "x",
         "hovertemplate": "region=northeast<br>charges=%{x}<br>count=%{y}<extra></extra>",
         "legendgroup": "northeast",
         "marker": {
          "color": "#ab63fa",
          "opacity": 0.7,
          "pattern": {
           "shape": ""
          }
         },
         "name": "northeast",
         "nbinsx": 20,
         "orientation": "v",
         "showlegend": true,
         "type": "histogram",
         "x": {
          "bdata": "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",
          "dtype": "f8"
         },
         "xaxis": "x",
         "yaxis": "y"
        }
       ],
       "layout": {
        "barmode": "overlay",
        "legend": {
         "title": {
          "text": "region"
         },
         "tracegroupgap": 0
        },
        "template": {
         "data": {
          "bar": [
           {
            "error_x": {
             "color": "#2a3f5f"
            },
            "error_y": {
             "color": "#2a3f5f"
            },
            "marker": {
             "line": {
              "color": "#E5ECF6",
              "width": 0.5
             },
             "pattern": {
              "fillmode": "overlay",
              "size": 10,
              "solidity": 0.2
             }
            },
            "type": "bar"
           }
          ],
          "barpolar": [
           {
            "marker": {
             "line": {
              "color": "#E5ECF6",
              "width": 0.5
             },
             "pattern": {
              "fillmode": "overlay",
              "size": 10,
              "solidity": 0.2
             }
            },
            "type": "barpolar"
           }
          ],
          "carpet": [
           {
            "aaxis": {
             "endlinecolor": "#2a3f5f",
             "gridcolor": "white",
             "linecolor": "white",
             "minorgridcolor": "white",
             "startlinecolor": "#2a3f5f"
            },
            "baxis": {
             "endlinecolor": "#2a3f5f",
             "gridcolor": "white",
             "linecolor": "white",
             "minorgridcolor": "white",
             "startlinecolor": "#2a3f5f"
            },
            "type": "carpet"
           }
          ],
          "choropleth": [
           {
            "colorbar": {
             "outlinewidth": 0,
             "ticks": ""
            },
            "type": "choropleth"
           }
          ],
          "contour": [
           {
            "colorbar": {
             "outlinewidth": 0,
             "ticks": ""
            },
            "colorscale": [
             [
              0,
              "#0d0887"
             ],
             [
              0.1111111111111111,
              "#46039f"
             ],
             [
              0.2222222222222222,
              "#7201a8"
             ],
             [
              0.3333333333333333,
              "#9c179e"
             ],
             [
              0.4444444444444444,
              "#bd3786"
             ],
             [
              0.5555555555555556,
              "#d8576b"
             ],
             [
              0.6666666666666666,
              "#ed7953"
             ],
             [
              0.7777777777777778,
              "#fb9f3a"
             ],
             [
              0.8888888888888888,
              "#fdca26"
             ],
             [
              1,
              "#f0f921"
             ]
            ],
            "type": "contour"
           }
          ],
          "contourcarpet": [
           {
            "colorbar": {
             "outlinewidth": 0,
             "ticks": ""
            },
            "type": "contourcarpet"
           }
          ],
          "heatmap": [
           {
            "colorbar": {
             "outlinewidth": 0,
             "ticks": ""
            },
            "colorscale": [
             [
              0,
              "#0d0887"
             ],
             [
              0.1111111111111111,
              "#46039f"
             ],
             [
              0.2222222222222222,
              "#7201a8"
             ],
             [
              0.3333333333333333,
              "#9c179e"
             ],
             [
              0.4444444444444444,
              "#bd3786"
             ],
             [
              0.5555555555555556,
              "#d8576b"
             ],
             [
              0.6666666666666666,
              "#ed7953"
             ],
             [
              0.7777777777777778,
              "#fb9f3a"
             ],
             [
              0.8888888888888888,
              "#fdca26"
             ],
             [
              1,
              "#f0f921"
             ]
            ],
            "type": "heatmap"
           }
          ],
          "histogram": [
           {
            "marker": {
             "pattern": {
              "fillmode": "overlay",
              "size": 10,
              "solidity": 0.2
             }
            },
            "type": "histogram"
           }
          ],
          "histogram2d": [
           {
            "colorbar": {
             "outlinewidth": 0,
             "ticks": ""
            },
            "colorscale": [
             [
              0,
              "#0d0887"
             ],
             [
              0.1111111111111111,
              "#46039f"
             ],
             [
              0.2222222222222222,
              "#7201a8"
             ],
             [
              0.3333333333333333,
              "#9c179e"
             ],
             [
              0.4444444444444444,
              "#bd3786"
             ],
             [
              0.5555555555555556,
              "#d8576b"
             ],
             [
              0.6666666666666666,
              "#ed7953"
             ],
             [
              0.7777777777777778,
              "#fb9f3a"
             ],
             [
              0.8888888888888888,
              "#fdca26"
             ],
             [
              1,
              "#f0f921"
             ]
            ],
            "type": "histogram2d"
           }
          ],
          "histogram2dcontour": [
           {
            "colorbar": {
             "outlinewidth": 0,
             "ticks": ""
            },
            "colorscale": [
             [
              0,
              "#0d0887"
             ],
             [
              0.1111111111111111,
              "#46039f"
             ],
             [
              0.2222222222222222,
              "#7201a8"
             ],
             [
              0.3333333333333333,
              "#9c179e"
             ],
             [
              0.4444444444444444,
              "#bd3786"
             ],
             [
              0.5555555555555556,
              "#d8576b"
             ],
             [
              0.6666666666666666,
              "#ed7953"
             ],
             [
              0.7777777777777778,
              "#fb9f3a"
             ],
             [
              0.8888888888888888,
              "#fdca26"
             ],
             [
              1,
              "#f0f921"
             ]
            ],
            "type": "histogram2dcontour"
           }
          ],
          "mesh3d": [
           {
            "colorbar": {
             "outlinewidth": 0,
             "ticks": ""
            },
            "type": "mesh3d"
           }
          ],
          "parcoords": [
           {
            "line": {
             "colorbar": {
              "outlinewidth": 0,
              "ticks": ""
             }
            },
            "type": "parcoords"
           }
          ],
          "pie": [
           {
            "automargin": true,
            "type": "pie"
           }
          ],
          "scatter": [
           {
            "fillpattern": {
             "fillmode": "overlay",
             "size": 10,
             "solidity": 0.2
            },
            "type": "scatter"
           }
          ],
          "scatter3d": [
           {
            "line": {
             "colorbar": {
              "outlinewidth": 0,
              "ticks": ""
             }
            },
            "marker": {
             "colorbar": {
              "outlinewidth": 0,
              "ticks": ""
             }
            },
            "type": "scatter3d"
           }
          ],
          "scattercarpet": [
           {
            "marker": {
             "colorbar": {
              "outlinewidth": 0,
              "ticks": ""
             }
            },
            "type": "scattercarpet"
           }
          ],
          "scattergeo": [
           {
            "marker": {
             "colorbar": {
              "outlinewidth": 0,
              "ticks": ""
             }
            },
            "type": "scattergeo"
           }
          ],
          "scattergl": [
           {
            "marker": {
             "colorbar": {
              "outlinewidth": 0,
              "ticks": ""
             }
            },
            "type": "scattergl"
           }
          ],
          "scattermap": [
           {
            "marker": {
             "colorbar": {
              "outlinewidth": 0,
              "ticks": ""
             }
            },
            "type": "scattermap"
           }
          ],
          "scattermapbox": [
           {
            "marker": {
             "colorbar": {
              "outlinewidth": 0,
              "ticks": ""
             }
            },
            "type": "scattermapbox"
           }
          ],
          "scatterpolar": [
           {
            "marker": {
             "colorbar": {
              "outlinewidth": 0,
              "ticks": ""
             }
            },
            "type": "scatterpolar"
           }
          ],
          "scatterpolargl": [
           {
            "marker": {
             "colorbar": {
              "outlinewidth": 0,
              "ticks": ""
             }
            },
            "type": "scatterpolargl"
           }
          ],
          "scatterternary": [
           {
            "marker": {
             "colorbar": {
              "outlinewidth": 0,
              "ticks": ""
             }
            },
            "type": "scatterternary"
           }
          ],
          "surface": [
           {
            "colorbar": {
             "outlinewidth": 0,
             "ticks": ""
            },
            "colorscale": [
             [
              0,
              "#0d0887"
             ],
             [
              0.1111111111111111,
              "#46039f"
             ],
             [
              0.2222222222222222,
              "#7201a8"
             ],
             [
              0.3333333333333333,
              "#9c179e"
             ],
             [
              0.4444444444444444,
              "#bd3786"
             ],
             [
              0.5555555555555556,
              "#d8576b"
             ],
             [
              0.6666666666666666,
              "#ed7953"
             ],
             [
              0.7777777777777778,
              "#fb9f3a"
             ],
             [
              0.8888888888888888,
              "#fdca26"
             ],
             [
              1,
              "#f0f921"
             ]
            ],
            "type": "surface"
           }
          ],
          "table": [
           {
            "cells": {
             "fill": {
              "color": "#EBF0F8"
             },
             "line": {
              "color": "white"
             }
            },
            "header": {
             "fill": {
              "color": "#C8D4E3"
             },
             "line": {
              "color": "white"
             }
            },
            "type": "table"
           }
          ]
         },
         "layout": {
          "annotationdefaults": {
           "arrowcolor": "#2a3f5f",
           "arrowhead": 0,
           "arrowwidth": 1
          },
          "autotypenumbers": "strict",
          "coloraxis": {
           "colorbar": {
            "outlinewidth": 0,
            "ticks": ""
           }
          },
          "colorscale": {
           "diverging": [
            [
             0,
             "#8e0152"
            ],
            [
             0.1,
             "#c51b7d"
            ],
            [
             0.2,
             "#de77ae"
            ],
            [
             0.3,
             "#f1b6da"
            ],
            [
             0.4,
             "#fde0ef"
            ],
            [
             0.5,
             "#f7f7f7"
            ],
            [
             0.6,
             "#e6f5d0"
            ],
            [
             0.7,
             "#b8e186"
            ],
            [
             0.8,
             "#7fbc41"
            ],
            [
             0.9,
             "#4d9221"
            ],
            [
             1,
             "#276419"
            ]
           ],
           "sequential": [
            [
             0,
             "#0d0887"
            ],
            [
             0.1111111111111111,
             "#46039f"
            ],
            [
             0.2222222222222222,
             "#7201a8"
            ],
            [
             0.3333333333333333,
             "#9c179e"
            ],
            [
             0.4444444444444444,
             "#bd3786"
            ],
            [
             0.5555555555555556,
             "#d8576b"
            ],
            [
             0.6666666666666666,
             "#ed7953"
            ],
            [
             0.7777777777777778,
             "#fb9f3a"
            ],
            [
             0.8888888888888888,
             "#fdca26"
            ],
            [
             1,
             "#f0f921"
            ]
           ],
           "sequentialminus": [
            [
             0,
             "#0d0887"
            ],
            [
             0.1111111111111111,
             "#46039f"
            ],
            [
             0.2222222222222222,
             "#7201a8"
            ],
            [
             0.3333333333333333,
             "#9c179e"
            ],
            [
             0.4444444444444444,
             "#bd3786"
            ],
            [
             0.5555555555555556,
             "#d8576b"
            ],
            [
             0.6666666666666666,
             "#ed7953"
            ],
            [
             0.7777777777777778,
             "#fb9f3a"
            ],
            [
             0.8888888888888888,
             "#fdca26"
            ],
            [
             1,
             "#f0f921"
            ]
           ]
          },
          "colorway": [
           "#636efa",
           "#EF553B",
           "#00cc96",
           "#ab63fa",
           "#FFA15A",
           "#19d3f3",
           "#FF6692",
           "#B6E880",
           "#FF97FF",
           "#FECB52"
          ],
          "font": {
           "color": "#2a3f5f"
          },
          "geo": {
           "bgcolor": "white",
           "lakecolor": "white",
           "landcolor": "#E5ECF6",
           "showlakes": true,
           "showland": true,
           "subunitcolor": "white"
          },
          "hoverlabel": {
           "align": "left"
          },
          "hovermode": "closest",
          "mapbox": {
           "style": "light"
          },
          "paper_bgcolor": "white",
          "plot_bgcolor": "#E5ECF6",
          "polar": {
           "angularaxis": {
            "gridcolor": "white",
            "linecolor": "white",
            "ticks": ""
           },
           "bgcolor": "#E5ECF6",
           "radialaxis": {
            "gridcolor": "white",
            "linecolor": "white",
            "ticks": ""
           }
          },
          "scene": {
           "xaxis": {
            "backgroundcolor": "#E5ECF6",
            "gridcolor": "white",
            "gridwidth": 2,
            "linecolor": "white",
            "showbackground": true,
            "ticks": "",
            "zerolinecolor": "white"
           },
           "yaxis": {
            "backgroundcolor": "#E5ECF6",
            "gridcolor": "white",
            "gridwidth": 2,
            "linecolor": "white",
            "showbackground": true,
            "ticks": "",
            "zerolinecolor": "white"
           },
           "zaxis": {
            "backgroundcolor": "#E5ECF6",
            "gridcolor": "white",
            "gridwidth": 2,
            "linecolor": "white",
            "showbackground": true,
            "ticks": "",
            "zerolinecolor": "white"
           }
          },
          "shapedefaults": {
           "line": {
            "color": "#2a3f5f"
           }
          },
          "ternary": {
           "aaxis": {
            "gridcolor": "white",
            "linecolor": "white",
            "ticks": ""
           },
           "baxis": {
            "gridcolor": "white",
            "linecolor": "white",
            "ticks": ""
           },
           "bgcolor": "#E5ECF6",
           "caxis": {
            "gridcolor": "white",
            "linecolor": "white",
            "ticks": ""
           }
          },
          "title": {
           "x": 0.05
          },
          "xaxis": {
           "automargin": true,
           "gridcolor": "white",
           "linecolor": "white",
           "ticks": "",
           "title": {
            "standoff": 15
           },
           "zerolinecolor": "white",
           "zerolinewidth": 2
          },
          "yaxis": {
           "automargin": true,
           "gridcolor": "white",
           "linecolor": "white",
           "ticks": "",
           "title": {
            "standoff": 15
           },
           "zerolinecolor": "white",
           "zerolinewidth": 2
          }
         }
        },
        "title": {
         "text": "Charges Distribution by Region"
        },
        "xaxis": {
         "anchor": "y",
         "domain": [
          0,
          1
         ],
         "title": {
          "text": "charges"
         }
        },
        "yaxis": {
         "anchor": "x",
         "domain": [
          0,
          1
         ],
         "title": {
          "text": "count"
         }
        }
       }
      }
     },
     "metadata": {},
     "output_type": "display_data"
    }
   ],
   "source": [
    "# write here your code\n",
    "fig1 = px.histogram(df, x='age', nbins=10, title='Age Distribution')\n",
    "fig1.show()\n",
    "fig2 = px.histogram(df, x='bmi', color='sex', nbins=15,\n",
    "                   title='BMI Distribution by Sex', barmode='overlay', opacity=0.7)\n",
    "fig2.show()\n",
    "fig3 = px.histogram(df, x='charges', color='smoker', nbins=20,\n",
    "                   title='Charges Distribution by Smoking Status', barmode='overlay', opacity=0.7)\n",
    "fig3.show()\n",
    "fig4 = px.histogram(df, x='children', nbins=7,\n",
    "                   title='Distribution of Number of Children')\n",
    "fig4.show()\n",
    "\n",
    "fig5 = px.histogram(df, x='charges', color='region', nbins=20,\n",
    "                   title='Charges Distribution by Region', barmode='overlay', opacity=0.7)\n",
    "fig5.show()"
   ]
  },
  {
   "cell_type": "code",
   "execution_count": 12,
   "id": "b89eac5a",
   "metadata": {},
   "outputs": [
    {
     "data": {
      "application/vnd.plotly.v1+json": {
       "config": {
        "plotlyServerURL": "https://plot.ly"
       },
       "data": [
        {
         "hovertemplate": "Region=%{x}<br>Average Charges=%{text}<extra></extra>",
         "legendgroup": "northeast",
         "marker": {
          "color": "#636efa",
          "pattern": {
           "shape": ""
          }
         },
         "name": "northeast",
         "orientation": "v",
         "showlegend": true,
         "text": {
          "bdata": "5zrVNzEvykA=",
          "dtype": "f8"
         },
         "textposition": "outside",
         "texttemplate": "%{text:.2f}",
         "type": "bar",
         "x": [
          "northeast"
         ],
         "xaxis": "x",
         "y": {
          "bdata": "5zrVNzEvykA=",
          "dtype": "f8"
         },
         "yaxis": "y"
        },
        {
         "hovertemplate": "Region=%{x}<br>Average Charges=%{text}<extra></extra>",
         "legendgroup": "northwest",
         "marker": {
          "color": "#EF553B",
          "pattern": {
           "shape": ""
          }
         },
         "name": "northwest",
         "orientation": "v",
         "showlegend": true,
         "text": {
          "bdata": "aa7apclAyEA=",
          "dtype": "f8"
         },
         "textposition": "outside",
         "texttemplate": "%{text:.2f}",
         "type": "bar",
         "x": [
          "northwest"
         ],
         "xaxis": "x",
         "y": {
          "bdata": "aa7apclAyEA=",
          "dtype": "f8"
         },
         "yaxis": "y"
        },
        {
         "hovertemplate": "Region=%{x}<br>Average Charges=%{text}<extra></extra>",
         "legendgroup": "southeast",
         "marker": {
          "color": "#00cc96",
          "pattern": {
           "shape": ""
          }
         },
         "name": "southeast",
         "orientation": "v",
         "showlegend": true,
         "text": {
          "bdata": "adP8qbTHzEA=",
          "dtype": "f8"
         },
         "textposition": "outside",
         "texttemplate": "%{text:.2f}",
         "type": "bar",
         "x": [
          "southeast"
         ],
         "xaxis": "x",
         "y": {
          "bdata": "adP8qbTHzEA=",
          "dtype": "f8"
         },
         "yaxis": "y"
        },
        {
         "hovertemplate": "Region=%{x}<br>Average Charges=%{text}<extra></extra>",
         "legendgroup": "southwest",
         "marker": {
          "color": "#ab63fa",
          "pattern": {
           "shape": ""
          }
         },
         "name": "southwest",
         "orientation": "v",
         "showlegend": true,
         "text": {
          "bdata": "Paf6+3cdyEA=",
          "dtype": "f8"
         },
         "textposition": "outside",
         "texttemplate": "%{text:.2f}",
         "type": "bar",
         "x": [
          "southwest"
         ],
         "xaxis": "x",
         "y": {
          "bdata": "Paf6+3cdyEA=",
          "dtype": "f8"
         },
         "yaxis": "y"
        }
       ],
       "layout": {
        "barmode": "relative",
        "legend": {
         "title": {
          "text": "Region"
         },
         "tracegroupgap": 0
        },
        "template": {
         "data": {
          "bar": [
           {
            "error_x": {
             "color": "#2a3f5f"
            },
            "error_y": {
             "color": "#2a3f5f"
            },
            "marker": {
             "line": {
              "color": "#E5ECF6",
              "width": 0.5
             },
             "pattern": {
              "fillmode": "overlay",
              "size": 10,
              "solidity": 0.2
             }
            },
            "type": "bar"
           }
          ],
          "barpolar": [
           {
            "marker": {
             "line": {
              "color": "#E5ECF6",
              "width": 0.5
             },
             "pattern": {
              "fillmode": "overlay",
              "size": 10,
              "solidity": 0.2
             }
            },
            "type": "barpolar"
           }
          ],
          "carpet": [
           {
            "aaxis": {
             "endlinecolor": "#2a3f5f",
             "gridcolor": "white",
             "linecolor": "white",
             "minorgridcolor": "white",
             "startlinecolor": "#2a3f5f"
            },
            "baxis": {
             "endlinecolor": "#2a3f5f",
             "gridcolor": "white",
             "linecolor": "white",
             "minorgridcolor": "white",
             "startlinecolor": "#2a3f5f"
            },
            "type": "carpet"
           }
          ],
          "choropleth": [
           {
            "colorbar": {
             "outlinewidth": 0,
             "ticks": ""
            },
            "type": "choropleth"
           }
          ],
          "contour": [
           {
            "colorbar": {
             "outlinewidth": 0,
             "ticks": ""
            },
            "colorscale": [
             [
              0,
              "#0d0887"
             ],
             [
              0.1111111111111111,
              "#46039f"
             ],
             [
              0.2222222222222222,
              "#7201a8"
             ],
             [
              0.3333333333333333,
              "#9c179e"
             ],
             [
              0.4444444444444444,
              "#bd3786"
             ],
             [
              0.5555555555555556,
              "#d8576b"
             ],
             [
              0.6666666666666666,
              "#ed7953"
             ],
             [
              0.7777777777777778,
              "#fb9f3a"
             ],
             [
              0.8888888888888888,
              "#fdca26"
             ],
             [
              1,
              "#f0f921"
             ]
            ],
            "type": "contour"
           }
          ],
          "contourcarpet": [
           {
            "colorbar": {
             "outlinewidth": 0,
             "ticks": ""
            },
            "type": "contourcarpet"
           }
          ],
          "heatmap": [
           {
            "colorbar": {
             "outlinewidth": 0,
             "ticks": ""
            },
            "colorscale": [
             [
              0,
              "#0d0887"
             ],
             [
              0.1111111111111111,
              "#46039f"
             ],
             [
              0.2222222222222222,
              "#7201a8"
             ],
             [
              0.3333333333333333,
              "#9c179e"
             ],
             [
              0.4444444444444444,
              "#bd3786"
             ],
             [
              0.5555555555555556,
              "#d8576b"
             ],
             [
              0.6666666666666666,
              "#ed7953"
             ],
             [
              0.7777777777777778,
              "#fb9f3a"
             ],
             [
              0.8888888888888888,
              "#fdca26"
             ],
             [
              1,
              "#f0f921"
             ]
            ],
            "type": "heatmap"
           }
          ],
          "histogram": [
           {
            "marker": {
             "pattern": {
              "fillmode": "overlay",
              "size": 10,
              "solidity": 0.2
             }
            },
            "type": "histogram"
           }
          ],
          "histogram2d": [
           {
            "colorbar": {
             "outlinewidth": 0,
             "ticks": ""
            },
            "colorscale": [
             [
              0,
              "#0d0887"
             ],
             [
              0.1111111111111111,
              "#46039f"
             ],
             [
              0.2222222222222222,
              "#7201a8"
             ],
             [
              0.3333333333333333,
              "#9c179e"
             ],
             [
              0.4444444444444444,
              "#bd3786"
             ],
             [
              0.5555555555555556,
              "#d8576b"
             ],
             [
              0.6666666666666666,
              "#ed7953"
             ],
             [
              0.7777777777777778,
              "#fb9f3a"
             ],
             [
              0.8888888888888888,
              "#fdca26"
             ],
             [
              1,
              "#f0f921"
             ]
            ],
            "type": "histogram2d"
           }
          ],
          "histogram2dcontour": [
           {
            "colorbar": {
             "outlinewidth": 0,
             "ticks": ""
            },
            "colorscale": [
             [
              0,
              "#0d0887"
             ],
             [
              0.1111111111111111,
              "#46039f"
             ],
             [
              0.2222222222222222,
              "#7201a8"
             ],
             [
              0.3333333333333333,
              "#9c179e"
             ],
             [
              0.4444444444444444,
              "#bd3786"
             ],
             [
              0.5555555555555556,
              "#d8576b"
             ],
             [
              0.6666666666666666,
              "#ed7953"
             ],
             [
              0.7777777777777778,
              "#fb9f3a"
             ],
             [
              0.8888888888888888,
              "#fdca26"
             ],
             [
              1,
              "#f0f921"
             ]
            ],
            "type": "histogram2dcontour"
           }
          ],
          "mesh3d": [
           {
            "colorbar": {
             "outlinewidth": 0,
             "ticks": ""
            },
            "type": "mesh3d"
           }
          ],
          "parcoords": [
           {
            "line": {
             "colorbar": {
              "outlinewidth": 0,
              "ticks": ""
             }
            },
            "type": "parcoords"
           }
          ],
          "pie": [
           {
            "automargin": true,
            "type": "pie"
           }
          ],
          "scatter": [
           {
            "fillpattern": {
             "fillmode": "overlay",
             "size": 10,
             "solidity": 0.2
            },
            "type": "scatter"
           }
          ],
          "scatter3d": [
           {
            "line": {
             "colorbar": {
              "outlinewidth": 0,
              "ticks": ""
             }
            },
            "marker": {
             "colorbar": {
              "outlinewidth": 0,
              "ticks": ""
             }
            },
            "type": "scatter3d"
           }
          ],
          "scattercarpet": [
           {
            "marker": {
             "colorbar": {
              "outlinewidth": 0,
              "ticks": ""
             }
            },
            "type": "scattercarpet"
           }
          ],
          "scattergeo": [
           {
            "marker": {
             "colorbar": {
              "outlinewidth": 0,
              "ticks": ""
             }
            },
            "type": "scattergeo"
           }
          ],
          "scattergl": [
           {
            "marker": {
             "colorbar": {
              "outlinewidth": 0,
              "ticks": ""
             }
            },
            "type": "scattergl"
           }
          ],
          "scattermap": [
           {
            "marker": {
             "colorbar": {
              "outlinewidth": 0,
              "ticks": ""
             }
            },
            "type": "scattermap"
           }
          ],
          "scattermapbox": [
           {
            "marker": {
             "colorbar": {
              "outlinewidth": 0,
              "ticks": ""
             }
            },
            "type": "scattermapbox"
           }
          ],
          "scatterpolar": [
           {
            "marker": {
             "colorbar": {
              "outlinewidth": 0,
              "ticks": ""
             }
            },
            "type": "scatterpolar"
           }
          ],
          "scatterpolargl": [
           {
            "marker": {
             "colorbar": {
              "outlinewidth": 0,
              "ticks": ""
             }
            },
            "type": "scatterpolargl"
           }
          ],
          "scatterternary": [
           {
            "marker": {
             "colorbar": {
              "outlinewidth": 0,
              "ticks": ""
             }
            },
            "type": "scatterternary"
           }
          ],
          "surface": [
           {
            "colorbar": {
             "outlinewidth": 0,
             "ticks": ""
            },
            "colorscale": [
             [
              0,
              "#0d0887"
             ],
             [
              0.1111111111111111,
              "#46039f"
             ],
             [
              0.2222222222222222,
              "#7201a8"
             ],
             [
              0.3333333333333333,
              "#9c179e"
             ],
             [
              0.4444444444444444,
              "#bd3786"
             ],
             [
              0.5555555555555556,
              "#d8576b"
             ],
             [
              0.6666666666666666,
              "#ed7953"
             ],
             [
              0.7777777777777778,
              "#fb9f3a"
             ],
             [
              0.8888888888888888,
              "#fdca26"
             ],
             [
              1,
              "#f0f921"
             ]
            ],
            "type": "surface"
           }
          ],
          "table": [
           {
            "cells": {
             "fill": {
              "color": "#EBF0F8"
             },
             "line": {
              "color": "white"
             }
            },
            "header": {
             "fill": {
              "color": "#C8D4E3"
             },
             "line": {
              "color": "white"
             }
            },
            "type": "table"
           }
          ]
         },
         "layout": {
          "annotationdefaults": {
           "arrowcolor": "#2a3f5f",
           "arrowhead": 0,
           "arrowwidth": 1
          },
          "autotypenumbers": "strict",
          "coloraxis": {
           "colorbar": {
            "outlinewidth": 0,
            "ticks": ""
           }
          },
          "colorscale": {
           "diverging": [
            [
             0,
             "#8e0152"
            ],
            [
             0.1,
             "#c51b7d"
            ],
            [
             0.2,
             "#de77ae"
            ],
            [
             0.3,
             "#f1b6da"
            ],
            [
             0.4,
             "#fde0ef"
            ],
            [
             0.5,
             "#f7f7f7"
            ],
            [
             0.6,
             "#e6f5d0"
            ],
            [
             0.7,
             "#b8e186"
            ],
            [
             0.8,
             "#7fbc41"
            ],
            [
             0.9,
             "#4d9221"
            ],
            [
             1,
             "#276419"
            ]
           ],
           "sequential": [
            [
             0,
             "#0d0887"
            ],
            [
             0.1111111111111111,
             "#46039f"
            ],
            [
             0.2222222222222222,
             "#7201a8"
            ],
            [
             0.3333333333333333,
             "#9c179e"
            ],
            [
             0.4444444444444444,
             "#bd3786"
            ],
            [
             0.5555555555555556,
             "#d8576b"
            ],
            [
             0.6666666666666666,
             "#ed7953"
            ],
            [
             0.7777777777777778,
             "#fb9f3a"
            ],
            [
             0.8888888888888888,
             "#fdca26"
            ],
            [
             1,
             "#f0f921"
            ]
           ],
           "sequentialminus": [
            [
             0,
             "#0d0887"
            ],
            [
             0.1111111111111111,
             "#46039f"
            ],
            [
             0.2222222222222222,
             "#7201a8"
            ],
            [
             0.3333333333333333,
             "#9c179e"
            ],
            [
             0.4444444444444444,
             "#bd3786"
            ],
            [
             0.5555555555555556,
             "#d8576b"
            ],
            [
             0.6666666666666666,
             "#ed7953"
            ],
            [
             0.7777777777777778,
             "#fb9f3a"
            ],
            [
             0.8888888888888888,
             "#fdca26"
            ],
            [
             1,
             "#f0f921"
            ]
           ]
          },
          "colorway": [
           "#636efa",
           "#EF553B",
           "#00cc96",
           "#ab63fa",
           "#FFA15A",
           "#19d3f3",
           "#FF6692",
           "#B6E880",
           "#FF97FF",
           "#FECB52"
          ],
          "font": {
           "color": "#2a3f5f"
          },
          "geo": {
           "bgcolor": "white",
           "lakecolor": "white",
           "landcolor": "#E5ECF6",
           "showlakes": true,
           "showland": true,
           "subunitcolor": "white"
          },
          "hoverlabel": {
           "align": "left"
          },
          "hovermode": "closest",
          "mapbox": {
           "style": "light"
          },
          "paper_bgcolor": "white",
          "plot_bgcolor": "#E5ECF6",
          "polar": {
           "angularaxis": {
            "gridcolor": "white",
            "linecolor": "white",
            "ticks": ""
           },
           "bgcolor": "#E5ECF6",
           "radialaxis": {
            "gridcolor": "white",
            "linecolor": "white",
            "ticks": ""
           }
          },
          "scene": {
           "xaxis": {
            "backgroundcolor": "#E5ECF6",
            "gridcolor": "white",
            "gridwidth": 2,
            "linecolor": "white",
            "showbackground": true,
            "ticks": "",
            "zerolinecolor": "white"
           },
           "yaxis": {
            "backgroundcolor": "#E5ECF6",
            "gridcolor": "white",
            "gridwidth": 2,
            "linecolor": "white",
            "showbackground": true,
            "ticks": "",
            "zerolinecolor": "white"
           },
           "zaxis": {
            "backgroundcolor": "#E5ECF6",
            "gridcolor": "white",
            "gridwidth": 2,
            "linecolor": "white",
            "showbackground": true,
            "ticks": "",
            "zerolinecolor": "white"
           }
          },
          "shapedefaults": {
           "line": {
            "color": "#2a3f5f"
           }
          },
          "ternary": {
           "aaxis": {
            "gridcolor": "white",
            "linecolor": "white",
            "ticks": ""
           },
           "baxis": {
            "gridcolor": "white",
            "linecolor": "white",
            "ticks": ""
           },
           "bgcolor": "#E5ECF6",
           "caxis": {
            "gridcolor": "white",
            "linecolor": "white",
            "ticks": ""
           }
          },
          "title": {
           "x": 0.05
          },
          "xaxis": {
           "automargin": true,
           "gridcolor": "white",
           "linecolor": "white",
           "ticks": "",
           "title": {
            "standoff": 15
           },
           "zerolinecolor": "white",
           "zerolinewidth": 2
          },
          "yaxis": {
           "automargin": true,
           "gridcolor": "white",
           "linecolor": "white",
           "ticks": "",
           "title": {
            "standoff": 15
           },
           "zerolinecolor": "white",
           "zerolinewidth": 2
          }
         }
        },
        "title": {
         "text": "Average Insurance Charges by Region"
        },
        "uniformtext": {
         "minsize": 8,
         "mode": "hide"
        },
        "xaxis": {
         "anchor": "y",
         "categoryarray": [
          "northeast",
          "northwest",
          "southeast",
          "southwest"
         ],
         "categoryorder": "array",
         "domain": [
          0,
          1
         ],
         "title": {
          "text": "Region"
         }
        },
        "yaxis": {
         "anchor": "x",
         "domain": [
          0,
          1
         ],
         "title": {
          "text": "Average Charges"
         }
        }
       }
      }
     },
     "metadata": {},
     "output_type": "display_data"
    }
   ],
   "source": [
    "\n",
    "# Calculate average charges by region\n",
    "avg_charges = df.groupby('region')['charges'].mean().reset_index()\n",
    "\n",
    "# Create bar chart\n",
    "fig = px.bar(avg_charges, x='region', y='charges', color='region',text='charges', \n",
    "             title='Average Insurance Charges by Region',\n",
    "             labels={'charges': 'Average Charges', 'region': 'Region'})\n",
    "fig.update_traces(texttemplate='%{text:.2f}', textposition='outside')\n",
    "fig.update_layout(uniformtext_minsize=8, uniformtext_mode='hide')\n",
    "\n",
    "fig.show()"
   ]
  },
  {
   "cell_type": "code",
   "execution_count": 13,
   "id": "5ca297c2",
   "metadata": {},
   "outputs": [
    {
     "data": {
      "application/vnd.plotly.v1+json": {
       "config": {
        "plotlyServerURL": "https://plot.ly"
       },
       "data": [
        {
         "hovertemplate": "Region=%{x}<br>Average Charges=%{y}<br>charges_rounded=%{text}<extra></extra>",
         "legendgroup": "northeast",
         "marker": {
          "color": "#636efa",
          "pattern": {
           "shape": ""
          }
         },
         "name": "northeast",
         "orientation": "v",
         "showlegend": true,
         "text": {
          "bdata": "AAAAAAAvykA=",
          "dtype": "f8"
         },
         "textposition": "outside",
         "texttemplate": "%{text}",
         "type": "bar",
         "x": [
          "northeast"
         ],
         "xaxis": "x",
         "y": {
          "bdata": "5zrVNzEvykA=",
          "dtype": "f8"
         },
         "yaxis": "y"
        },
        {
         "hovertemplate": "Region=%{x}<br>Average Charges=%{y}<br>charges_rounded=%{text}<extra></extra>",
         "legendgroup": "northwest",
         "marker": {
          "color": "#EF553B",
          "pattern": {
           "shape": ""
          }
         },
         "name": "northwest",
         "orientation": "v",
         "showlegend": true,
         "text": {
          "bdata": "AAAAAABByEA=",
          "dtype": "f8"
         },
         "textposition": "outside",
         "texttemplate": "%{text}",
         "type": "bar",
         "x": [
          "northwest"
         ],
         "xaxis": "x",
         "y": {
          "bdata": "aa7apclAyEA=",
          "dtype": "f8"
         },
         "yaxis": "y"
        },
        {
         "hovertemplate": "Region=%{x}<br>Average Charges=%{y}<br>charges_rounded=%{text}<extra></extra>",
         "legendgroup": "southeast",
         "marker": {
          "color": "#00cc96",
          "pattern": {
           "shape": ""
          }
         },
         "name": "southeast",
         "orientation": "v",
         "showlegend": true,
         "text": {
          "bdata": "AAAAAIDHzEA=",
          "dtype": "f8"
         },
         "textposition": "outside",
         "texttemplate": "%{text}",
         "type": "bar",
         "x": [
          "southeast"
         ],
         "xaxis": "x",
         "y": {
          "bdata": "adP8qbTHzEA=",
          "dtype": "f8"
         },
         "yaxis": "y"
        },
        {
         "hovertemplate": "Region=%{x}<br>Average Charges=%{y}<br>charges_rounded=%{text}<extra></extra>",
         "legendgroup": "southwest",
         "marker": {
          "color": "#ab63fa",
          "pattern": {
           "shape": ""
          }
         },
         "name": "southwest",
         "orientation": "v",
         "showlegend": true,
         "text": {
          "bdata": "AAAAAIAdyEA=",
          "dtype": "f8"
         },
         "textposition": "outside",
         "texttemplate": "%{text}",
         "type": "bar",
         "x": [
          "southwest"
         ],
         "xaxis": "x",
         "y": {
          "bdata": "Paf6+3cdyEA=",
          "dtype": "f8"
         },
         "yaxis": "y"
        }
       ],
       "layout": {
        "barmode": "relative",
        "legend": {
         "title": {
          "text": "Region"
         },
         "tracegroupgap": 0
        },
        "template": {
         "data": {
          "bar": [
           {
            "error_x": {
             "color": "#2a3f5f"
            },
            "error_y": {
             "color": "#2a3f5f"
            },
            "marker": {
             "line": {
              "color": "#E5ECF6",
              "width": 0.5
             },
             "pattern": {
              "fillmode": "overlay",
              "size": 10,
              "solidity": 0.2
             }
            },
            "type": "bar"
           }
          ],
          "barpolar": [
           {
            "marker": {
             "line": {
              "color": "#E5ECF6",
              "width": 0.5
             },
             "pattern": {
              "fillmode": "overlay",
              "size": 10,
              "solidity": 0.2
             }
            },
            "type": "barpolar"
           }
          ],
          "carpet": [
           {
            "aaxis": {
             "endlinecolor": "#2a3f5f",
             "gridcolor": "white",
             "linecolor": "white",
             "minorgridcolor": "white",
             "startlinecolor": "#2a3f5f"
            },
            "baxis": {
             "endlinecolor": "#2a3f5f",
             "gridcolor": "white",
             "linecolor": "white",
             "minorgridcolor": "white",
             "startlinecolor": "#2a3f5f"
            },
            "type": "carpet"
           }
          ],
          "choropleth": [
           {
            "colorbar": {
             "outlinewidth": 0,
             "ticks": ""
            },
            "type": "choropleth"
           }
          ],
          "contour": [
           {
            "colorbar": {
             "outlinewidth": 0,
             "ticks": ""
            },
            "colorscale": [
             [
              0,
              "#0d0887"
             ],
             [
              0.1111111111111111,
              "#46039f"
             ],
             [
              0.2222222222222222,
              "#7201a8"
             ],
             [
              0.3333333333333333,
              "#9c179e"
             ],
             [
              0.4444444444444444,
              "#bd3786"
             ],
             [
              0.5555555555555556,
              "#d8576b"
             ],
             [
              0.6666666666666666,
              "#ed7953"
             ],
             [
              0.7777777777777778,
              "#fb9f3a"
             ],
             [
              0.8888888888888888,
              "#fdca26"
             ],
             [
              1,
              "#f0f921"
             ]
            ],
            "type": "contour"
           }
          ],
          "contourcarpet": [
           {
            "colorbar": {
             "outlinewidth": 0,
             "ticks": ""
            },
            "type": "contourcarpet"
           }
          ],
          "heatmap": [
           {
            "colorbar": {
             "outlinewidth": 0,
             "ticks": ""
            },
            "colorscale": [
             [
              0,
              "#0d0887"
             ],
             [
              0.1111111111111111,
              "#46039f"
             ],
             [
              0.2222222222222222,
              "#7201a8"
             ],
             [
              0.3333333333333333,
              "#9c179e"
             ],
             [
              0.4444444444444444,
              "#bd3786"
             ],
             [
              0.5555555555555556,
              "#d8576b"
             ],
             [
              0.6666666666666666,
              "#ed7953"
             ],
             [
              0.7777777777777778,
              "#fb9f3a"
             ],
             [
              0.8888888888888888,
              "#fdca26"
             ],
             [
              1,
              "#f0f921"
             ]
            ],
            "type": "heatmap"
           }
          ],
          "histogram": [
           {
            "marker": {
             "pattern": {
              "fillmode": "overlay",
              "size": 10,
              "solidity": 0.2
             }
            },
            "type": "histogram"
           }
          ],
          "histogram2d": [
           {
            "colorbar": {
             "outlinewidth": 0,
             "ticks": ""
            },
            "colorscale": [
             [
              0,
              "#0d0887"
             ],
             [
              0.1111111111111111,
              "#46039f"
             ],
             [
              0.2222222222222222,
              "#7201a8"
             ],
             [
              0.3333333333333333,
              "#9c179e"
             ],
             [
              0.4444444444444444,
              "#bd3786"
             ],
             [
              0.5555555555555556,
              "#d8576b"
             ],
             [
              0.6666666666666666,
              "#ed7953"
             ],
             [
              0.7777777777777778,
              "#fb9f3a"
             ],
             [
              0.8888888888888888,
              "#fdca26"
             ],
             [
              1,
              "#f0f921"
             ]
            ],
            "type": "histogram2d"
           }
          ],
          "histogram2dcontour": [
           {
            "colorbar": {
             "outlinewidth": 0,
             "ticks": ""
            },
            "colorscale": [
             [
              0,
              "#0d0887"
             ],
             [
              0.1111111111111111,
              "#46039f"
             ],
             [
              0.2222222222222222,
              "#7201a8"
             ],
             [
              0.3333333333333333,
              "#9c179e"
             ],
             [
              0.4444444444444444,
              "#bd3786"
             ],
             [
              0.5555555555555556,
              "#d8576b"
             ],
             [
              0.6666666666666666,
              "#ed7953"
             ],
             [
              0.7777777777777778,
              "#fb9f3a"
             ],
             [
              0.8888888888888888,
              "#fdca26"
             ],
             [
              1,
              "#f0f921"
             ]
            ],
            "type": "histogram2dcontour"
           }
          ],
          "mesh3d": [
           {
            "colorbar": {
             "outlinewidth": 0,
             "ticks": ""
            },
            "type": "mesh3d"
           }
          ],
          "parcoords": [
           {
            "line": {
             "colorbar": {
              "outlinewidth": 0,
              "ticks": ""
             }
            },
            "type": "parcoords"
           }
          ],
          "pie": [
           {
            "automargin": true,
            "type": "pie"
           }
          ],
          "scatter": [
           {
            "fillpattern": {
             "fillmode": "overlay",
             "size": 10,
             "solidity": 0.2
            },
            "type": "scatter"
           }
          ],
          "scatter3d": [
           {
            "line": {
             "colorbar": {
              "outlinewidth": 0,
              "ticks": ""
             }
            },
            "marker": {
             "colorbar": {
              "outlinewidth": 0,
              "ticks": ""
             }
            },
            "type": "scatter3d"
           }
          ],
          "scattercarpet": [
           {
            "marker": {
             "colorbar": {
              "outlinewidth": 0,
              "ticks": ""
             }
            },
            "type": "scattercarpet"
           }
          ],
          "scattergeo": [
           {
            "marker": {
             "colorbar": {
              "outlinewidth": 0,
              "ticks": ""
             }
            },
            "type": "scattergeo"
           }
          ],
          "scattergl": [
           {
            "marker": {
             "colorbar": {
              "outlinewidth": 0,
              "ticks": ""
             }
            },
            "type": "scattergl"
           }
          ],
          "scattermap": [
           {
            "marker": {
             "colorbar": {
              "outlinewidth": 0,
              "ticks": ""
             }
            },
            "type": "scattermap"
           }
          ],
          "scattermapbox": [
           {
            "marker": {
             "colorbar": {
              "outlinewidth": 0,
              "ticks": ""
             }
            },
            "type": "scattermapbox"
           }
          ],
          "scatterpolar": [
           {
            "marker": {
             "colorbar": {
              "outlinewidth": 0,
              "ticks": ""
             }
            },
            "type": "scatterpolar"
           }
          ],
          "scatterpolargl": [
           {
            "marker": {
             "colorbar": {
              "outlinewidth": 0,
              "ticks": ""
             }
            },
            "type": "scatterpolargl"
           }
          ],
          "scatterternary": [
           {
            "marker": {
             "colorbar": {
              "outlinewidth": 0,
              "ticks": ""
             }
            },
            "type": "scatterternary"
           }
          ],
          "surface": [
           {
            "colorbar": {
             "outlinewidth": 0,
             "ticks": ""
            },
            "colorscale": [
             [
              0,
              "#0d0887"
             ],
             [
              0.1111111111111111,
              "#46039f"
             ],
             [
              0.2222222222222222,
              "#7201a8"
             ],
             [
              0.3333333333333333,
              "#9c179e"
             ],
             [
              0.4444444444444444,
              "#bd3786"
             ],
             [
              0.5555555555555556,
              "#d8576b"
             ],
             [
              0.6666666666666666,
              "#ed7953"
             ],
             [
              0.7777777777777778,
              "#fb9f3a"
             ],
             [
              0.8888888888888888,
              "#fdca26"
             ],
             [
              1,
              "#f0f921"
             ]
            ],
            "type": "surface"
           }
          ],
          "table": [
           {
            "cells": {
             "fill": {
              "color": "#EBF0F8"
             },
             "line": {
              "color": "white"
             }
            },
            "header": {
             "fill": {
              "color": "#C8D4E3"
             },
             "line": {
              "color": "white"
             }
            },
            "type": "table"
           }
          ]
         },
         "layout": {
          "annotationdefaults": {
           "arrowcolor": "#2a3f5f",
           "arrowhead": 0,
           "arrowwidth": 1
          },
          "autotypenumbers": "strict",
          "coloraxis": {
           "colorbar": {
            "outlinewidth": 0,
            "ticks": ""
           }
          },
          "colorscale": {
           "diverging": [
            [
             0,
             "#8e0152"
            ],
            [
             0.1,
             "#c51b7d"
            ],
            [
             0.2,
             "#de77ae"
            ],
            [
             0.3,
             "#f1b6da"
            ],
            [
             0.4,
             "#fde0ef"
            ],
            [
             0.5,
             "#f7f7f7"
            ],
            [
             0.6,
             "#e6f5d0"
            ],
            [
             0.7,
             "#b8e186"
            ],
            [
             0.8,
             "#7fbc41"
            ],
            [
             0.9,
             "#4d9221"
            ],
            [
             1,
             "#276419"
            ]
           ],
           "sequential": [
            [
             0,
             "#0d0887"
            ],
            [
             0.1111111111111111,
             "#46039f"
            ],
            [
             0.2222222222222222,
             "#7201a8"
            ],
            [
             0.3333333333333333,
             "#9c179e"
            ],
            [
             0.4444444444444444,
             "#bd3786"
            ],
            [
             0.5555555555555556,
             "#d8576b"
            ],
            [
             0.6666666666666666,
             "#ed7953"
            ],
            [
             0.7777777777777778,
             "#fb9f3a"
            ],
            [
             0.8888888888888888,
             "#fdca26"
            ],
            [
             1,
             "#f0f921"
            ]
           ],
           "sequentialminus": [
            [
             0,
             "#0d0887"
            ],
            [
             0.1111111111111111,
             "#46039f"
            ],
            [
             0.2222222222222222,
             "#7201a8"
            ],
            [
             0.3333333333333333,
             "#9c179e"
            ],
            [
             0.4444444444444444,
             "#bd3786"
            ],
            [
             0.5555555555555556,
             "#d8576b"
            ],
            [
             0.6666666666666666,
             "#ed7953"
            ],
            [
             0.7777777777777778,
             "#fb9f3a"
            ],
            [
             0.8888888888888888,
             "#fdca26"
            ],
            [
             1,
             "#f0f921"
            ]
           ]
          },
          "colorway": [
           "#636efa",
           "#EF553B",
           "#00cc96",
           "#ab63fa",
           "#FFA15A",
           "#19d3f3",
           "#FF6692",
           "#B6E880",
           "#FF97FF",
           "#FECB52"
          ],
          "font": {
           "color": "#2a3f5f"
          },
          "geo": {
           "bgcolor": "white",
           "lakecolor": "white",
           "landcolor": "#E5ECF6",
           "showlakes": true,
           "showland": true,
           "subunitcolor": "white"
          },
          "hoverlabel": {
           "align": "left"
          },
          "hovermode": "closest",
          "mapbox": {
           "style": "light"
          },
          "paper_bgcolor": "white",
          "plot_bgcolor": "#E5ECF6",
          "polar": {
           "angularaxis": {
            "gridcolor": "white",
            "linecolor": "white",
            "ticks": ""
           },
           "bgcolor": "#E5ECF6",
           "radialaxis": {
            "gridcolor": "white",
            "linecolor": "white",
            "ticks": ""
           }
          },
          "scene": {
           "xaxis": {
            "backgroundcolor": "#E5ECF6",
            "gridcolor": "white",
            "gridwidth": 2,
            "linecolor": "white",
            "showbackground": true,
            "ticks": "",
            "zerolinecolor": "white"
           },
           "yaxis": {
            "backgroundcolor": "#E5ECF6",
            "gridcolor": "white",
            "gridwidth": 2,
            "linecolor": "white",
            "showbackground": true,
            "ticks": "",
            "zerolinecolor": "white"
           },
           "zaxis": {
            "backgroundcolor": "#E5ECF6",
            "gridcolor": "white",
            "gridwidth": 2,
            "linecolor": "white",
            "showbackground": true,
            "ticks": "",
            "zerolinecolor": "white"
           }
          },
          "shapedefaults": {
           "line": {
            "color": "#2a3f5f"
           }
          },
          "ternary": {
           "aaxis": {
            "gridcolor": "white",
            "linecolor": "white",
            "ticks": ""
           },
           "baxis": {
            "gridcolor": "white",
            "linecolor": "white",
            "ticks": ""
           },
           "bgcolor": "#E5ECF6",
           "caxis": {
            "gridcolor": "white",
            "linecolor": "white",
            "ticks": ""
           }
          },
          "title": {
           "x": 0.05
          },
          "xaxis": {
           "automargin": true,
           "gridcolor": "white",
           "linecolor": "white",
           "ticks": "",
           "title": {
            "standoff": 15
           },
           "zerolinecolor": "white",
           "zerolinewidth": 2
          },
          "yaxis": {
           "automargin": true,
           "gridcolor": "white",
           "linecolor": "white",
           "ticks": "",
           "title": {
            "standoff": 15
           },
           "zerolinecolor": "white",
           "zerolinewidth": 2
          }
         }
        },
        "title": {
         "text": "Average Insurance Charges by Region"
        },
        "uniformtext": {
         "minsize": 8,
         "mode": "hide"
        },
        "xaxis": {
         "anchor": "y",
         "categoryarray": [
          "northeast",
          "northwest",
          "southeast",
          "southwest"
         ],
         "categoryorder": "array",
         "domain": [
          0,
          1
         ],
         "title": {
          "text": "Region"
         }
        },
        "yaxis": {
         "anchor": "x",
         "domain": [
          0,
          1
         ],
         "title": {
          "text": "Average Charges"
         }
        }
       }
      }
     },
     "metadata": {},
     "output_type": "display_data"
    }
   ],
   "source": [
    "import pandas as pd\n",
    "import plotly.express as px\n",
    "\n",
    "df = pd.read_csv('insurance.csv')\n",
    "\n",
    "# Calculate average charges by region and round to the nearest integer\n",
    "avg_charges = df.groupby('region')['charges'].mean().reset_index()\n",
    "avg_charges['charges_rounded'] = avg_charges['charges'].round(0).astype(int)\n",
    "\n",
    "fig = px.bar(\n",
    "    avg_charges,\n",
    "    x='region',\n",
    "    y='charges',\n",
    "    color='region',\n",
    "    text='charges_rounded',  # Show rounded values on the bar\n",
    "    title='Average Insurance Charges by Region',\n",
    "    labels={'charges': 'Average Charges', 'region': 'Region'}\n",
    ")\n",
    "\n",
    "fig.update_traces(texttemplate='%{text}', textposition='outside')\n",
    "fig.update_layout(uniformtext_minsize=8, uniformtext_mode='hide')\n",
    "\n",
    "fig.show()"
   ]
  },
  {
   "cell_type": "code",
   "execution_count": 14,
   "id": "3ceaee19",
   "metadata": {},
   "outputs": [
    {
     "data": {
      "application/vnd.plotly.v1+json": {
       "config": {
        "plotlyServerURL": "https://plot.ly"
       },
       "data": [
        {
         "hovertemplate": "Region=%{x}<br>Average Charges=%{y}<br>charges_k=%{text}<extra></extra>",
         "legendgroup": "northeast",
         "marker": {
          "color": "#636efa",
          "pattern": {
           "shape": ""
          }
         },
         "name": "northeast",
         "orientation": "v",
         "showlegend": true,
         "text": [
          "13k"
         ],
         "textposition": "outside",
         "texttemplate": "%{text}",
         "type": "bar",
         "x": [
          "northeast"
         ],
         "xaxis": "x",
         "y": {
          "bdata": "5zrVNzEvykA=",
          "dtype": "f8"
         },
         "yaxis": "y"
        },
        {
         "hovertemplate": "Region=%{x}<br>Average Charges=%{y}<br>charges_k=%{text}<extra></extra>",
         "legendgroup": "northwest",
         "marker": {
          "color": "#EF553B",
          "pattern": {
           "shape": ""
          }
         },
         "name": "northwest",
         "orientation": "v",
         "showlegend": true,
         "text": [
          "12k"
         ],
         "textposition": "outside",
         "texttemplate": "%{text}",
         "type": "bar",
         "x": [
          "northwest"
         ],
         "xaxis": "x",
         "y": {
          "bdata": "aa7apclAyEA=",
          "dtype": "f8"
         },
         "yaxis": "y"
        },
        {
         "hovertemplate": "Region=%{x}<br>Average Charges=%{y}<br>charges_k=%{text}<extra></extra>",
         "legendgroup": "southeast",
         "marker": {
          "color": "#00cc96",
          "pattern": {
           "shape": ""
          }
         },
         "name": "southeast",
         "orientation": "v",
         "showlegend": true,
         "text": [
          "15k"
         ],
         "textposition": "outside",
         "texttemplate": "%{text}",
         "type": "bar",
         "x": [
          "southeast"
         ],
         "xaxis": "x",
         "y": {
          "bdata": "adP8qbTHzEA=",
          "dtype": "f8"
         },
         "yaxis": "y"
        },
        {
         "hovertemplate": "Region=%{x}<br>Average Charges=%{y}<br>charges_k=%{text}<extra></extra>",
         "legendgroup": "southwest",
         "marker": {
          "color": "#ab63fa",
          "pattern": {
           "shape": ""
          }
         },
         "name": "southwest",
         "orientation": "v",
         "showlegend": true,
         "text": [
          "12k"
         ],
         "textposition": "outside",
         "texttemplate": "%{text}",
         "type": "bar",
         "x": [
          "southwest"
         ],
         "xaxis": "x",
         "y": {
          "bdata": "Paf6+3cdyEA=",
          "dtype": "f8"
         },
         "yaxis": "y"
        }
       ],
       "layout": {
        "barmode": "relative",
        "legend": {
         "title": {
          "text": "Region"
         },
         "tracegroupgap": 0
        },
        "template": {
         "data": {
          "bar": [
           {
            "error_x": {
             "color": "#2a3f5f"
            },
            "error_y": {
             "color": "#2a3f5f"
            },
            "marker": {
             "line": {
              "color": "#E5ECF6",
              "width": 0.5
             },
             "pattern": {
              "fillmode": "overlay",
              "size": 10,
              "solidity": 0.2
             }
            },
            "type": "bar"
           }
          ],
          "barpolar": [
           {
            "marker": {
             "line": {
              "color": "#E5ECF6",
              "width": 0.5
             },
             "pattern": {
              "fillmode": "overlay",
              "size": 10,
              "solidity": 0.2
             }
            },
            "type": "barpolar"
           }
          ],
          "carpet": [
           {
            "aaxis": {
             "endlinecolor": "#2a3f5f",
             "gridcolor": "white",
             "linecolor": "white",
             "minorgridcolor": "white",
             "startlinecolor": "#2a3f5f"
            },
            "baxis": {
             "endlinecolor": "#2a3f5f",
             "gridcolor": "white",
             "linecolor": "white",
             "minorgridcolor": "white",
             "startlinecolor": "#2a3f5f"
            },
            "type": "carpet"
           }
          ],
          "choropleth": [
           {
            "colorbar": {
             "outlinewidth": 0,
             "ticks": ""
            },
            "type": "choropleth"
           }
          ],
          "contour": [
           {
            "colorbar": {
             "outlinewidth": 0,
             "ticks": ""
            },
            "colorscale": [
             [
              0,
              "#0d0887"
             ],
             [
              0.1111111111111111,
              "#46039f"
             ],
             [
              0.2222222222222222,
              "#7201a8"
             ],
             [
              0.3333333333333333,
              "#9c179e"
             ],
             [
              0.4444444444444444,
              "#bd3786"
             ],
             [
              0.5555555555555556,
              "#d8576b"
             ],
             [
              0.6666666666666666,
              "#ed7953"
             ],
             [
              0.7777777777777778,
              "#fb9f3a"
             ],
             [
              0.8888888888888888,
              "#fdca26"
             ],
             [
              1,
              "#f0f921"
             ]
            ],
            "type": "contour"
           }
          ],
          "contourcarpet": [
           {
            "colorbar": {
             "outlinewidth": 0,
             "ticks": ""
            },
            "type": "contourcarpet"
           }
          ],
          "heatmap": [
           {
            "colorbar": {
             "outlinewidth": 0,
             "ticks": ""
            },
            "colorscale": [
             [
              0,
              "#0d0887"
             ],
             [
              0.1111111111111111,
              "#46039f"
             ],
             [
              0.2222222222222222,
              "#7201a8"
             ],
             [
              0.3333333333333333,
              "#9c179e"
             ],
             [
              0.4444444444444444,
              "#bd3786"
             ],
             [
              0.5555555555555556,
              "#d8576b"
             ],
             [
              0.6666666666666666,
              "#ed7953"
             ],
             [
              0.7777777777777778,
              "#fb9f3a"
             ],
             [
              0.8888888888888888,
              "#fdca26"
             ],
             [
              1,
              "#f0f921"
             ]
            ],
            "type": "heatmap"
           }
          ],
          "histogram": [
           {
            "marker": {
             "pattern": {
              "fillmode": "overlay",
              "size": 10,
              "solidity": 0.2
             }
            },
            "type": "histogram"
           }
          ],
          "histogram2d": [
           {
            "colorbar": {
             "outlinewidth": 0,
             "ticks": ""
            },
            "colorscale": [
             [
              0,
              "#0d0887"
             ],
             [
              0.1111111111111111,
              "#46039f"
             ],
             [
              0.2222222222222222,
              "#7201a8"
             ],
             [
              0.3333333333333333,
              "#9c179e"
             ],
             [
              0.4444444444444444,
              "#bd3786"
             ],
             [
              0.5555555555555556,
              "#d8576b"
             ],
             [
              0.6666666666666666,
              "#ed7953"
             ],
             [
              0.7777777777777778,
              "#fb9f3a"
             ],
             [
              0.8888888888888888,
              "#fdca26"
             ],
             [
              1,
              "#f0f921"
             ]
            ],
            "type": "histogram2d"
           }
          ],
          "histogram2dcontour": [
           {
            "colorbar": {
             "outlinewidth": 0,
             "ticks": ""
            },
            "colorscale": [
             [
              0,
              "#0d0887"
             ],
             [
              0.1111111111111111,
              "#46039f"
             ],
             [
              0.2222222222222222,
              "#7201a8"
             ],
             [
              0.3333333333333333,
              "#9c179e"
             ],
             [
              0.4444444444444444,
              "#bd3786"
             ],
             [
              0.5555555555555556,
              "#d8576b"
             ],
             [
              0.6666666666666666,
              "#ed7953"
             ],
             [
              0.7777777777777778,
              "#fb9f3a"
             ],
             [
              0.8888888888888888,
              "#fdca26"
             ],
             [
              1,
              "#f0f921"
             ]
            ],
            "type": "histogram2dcontour"
           }
          ],
          "mesh3d": [
           {
            "colorbar": {
             "outlinewidth": 0,
             "ticks": ""
            },
            "type": "mesh3d"
           }
          ],
          "parcoords": [
           {
            "line": {
             "colorbar": {
              "outlinewidth": 0,
              "ticks": ""
             }
            },
            "type": "parcoords"
           }
          ],
          "pie": [
           {
            "automargin": true,
            "type": "pie"
           }
          ],
          "scatter": [
           {
            "fillpattern": {
             "fillmode": "overlay",
             "size": 10,
             "solidity": 0.2
            },
            "type": "scatter"
           }
          ],
          "scatter3d": [
           {
            "line": {
             "colorbar": {
              "outlinewidth": 0,
              "ticks": ""
             }
            },
            "marker": {
             "colorbar": {
              "outlinewidth": 0,
              "ticks": ""
             }
            },
            "type": "scatter3d"
           }
          ],
          "scattercarpet": [
           {
            "marker": {
             "colorbar": {
              "outlinewidth": 0,
              "ticks": ""
             }
            },
            "type": "scattercarpet"
           }
          ],
          "scattergeo": [
           {
            "marker": {
             "colorbar": {
              "outlinewidth": 0,
              "ticks": ""
             }
            },
            "type": "scattergeo"
           }
          ],
          "scattergl": [
           {
            "marker": {
             "colorbar": {
              "outlinewidth": 0,
              "ticks": ""
             }
            },
            "type": "scattergl"
           }
          ],
          "scattermap": [
           {
            "marker": {
             "colorbar": {
              "outlinewidth": 0,
              "ticks": ""
             }
            },
            "type": "scattermap"
           }
          ],
          "scattermapbox": [
           {
            "marker": {
             "colorbar": {
              "outlinewidth": 0,
              "ticks": ""
             }
            },
            "type": "scattermapbox"
           }
          ],
          "scatterpolar": [
           {
            "marker": {
             "colorbar": {
              "outlinewidth": 0,
              "ticks": ""
             }
            },
            "type": "scatterpolar"
           }
          ],
          "scatterpolargl": [
           {
            "marker": {
             "colorbar": {
              "outlinewidth": 0,
              "ticks": ""
             }
            },
            "type": "scatterpolargl"
           }
          ],
          "scatterternary": [
           {
            "marker": {
             "colorbar": {
              "outlinewidth": 0,
              "ticks": ""
             }
            },
            "type": "scatterternary"
           }
          ],
          "surface": [
           {
            "colorbar": {
             "outlinewidth": 0,
             "ticks": ""
            },
            "colorscale": [
             [
              0,
              "#0d0887"
             ],
             [
              0.1111111111111111,
              "#46039f"
             ],
             [
              0.2222222222222222,
              "#7201a8"
             ],
             [
              0.3333333333333333,
              "#9c179e"
             ],
             [
              0.4444444444444444,
              "#bd3786"
             ],
             [
              0.5555555555555556,
              "#d8576b"
             ],
             [
              0.6666666666666666,
              "#ed7953"
             ],
             [
              0.7777777777777778,
              "#fb9f3a"
             ],
             [
              0.8888888888888888,
              "#fdca26"
             ],
             [
              1,
              "#f0f921"
             ]
            ],
            "type": "surface"
           }
          ],
          "table": [
           {
            "cells": {
             "fill": {
              "color": "#EBF0F8"
             },
             "line": {
              "color": "white"
             }
            },
            "header": {
             "fill": {
              "color": "#C8D4E3"
             },
             "line": {
              "color": "white"
             }
            },
            "type": "table"
           }
          ]
         },
         "layout": {
          "annotationdefaults": {
           "arrowcolor": "#2a3f5f",
           "arrowhead": 0,
           "arrowwidth": 1
          },
          "autotypenumbers": "strict",
          "coloraxis": {
           "colorbar": {
            "outlinewidth": 0,
            "ticks": ""
           }
          },
          "colorscale": {
           "diverging": [
            [
             0,
             "#8e0152"
            ],
            [
             0.1,
             "#c51b7d"
            ],
            [
             0.2,
             "#de77ae"
            ],
            [
             0.3,
             "#f1b6da"
            ],
            [
             0.4,
             "#fde0ef"
            ],
            [
             0.5,
             "#f7f7f7"
            ],
            [
             0.6,
             "#e6f5d0"
            ],
            [
             0.7,
             "#b8e186"
            ],
            [
             0.8,
             "#7fbc41"
            ],
            [
             0.9,
             "#4d9221"
            ],
            [
             1,
             "#276419"
            ]
           ],
           "sequential": [
            [
             0,
             "#0d0887"
            ],
            [
             0.1111111111111111,
             "#46039f"
            ],
            [
             0.2222222222222222,
             "#7201a8"
            ],
            [
             0.3333333333333333,
             "#9c179e"
            ],
            [
             0.4444444444444444,
             "#bd3786"
            ],
            [
             0.5555555555555556,
             "#d8576b"
            ],
            [
             0.6666666666666666,
             "#ed7953"
            ],
            [
             0.7777777777777778,
             "#fb9f3a"
            ],
            [
             0.8888888888888888,
             "#fdca26"
            ],
            [
             1,
             "#f0f921"
            ]
           ],
           "sequentialminus": [
            [
             0,
             "#0d0887"
            ],
            [
             0.1111111111111111,
             "#46039f"
            ],
            [
             0.2222222222222222,
             "#7201a8"
            ],
            [
             0.3333333333333333,
             "#9c179e"
            ],
            [
             0.4444444444444444,
             "#bd3786"
            ],
            [
             0.5555555555555556,
             "#d8576b"
            ],
            [
             0.6666666666666666,
             "#ed7953"
            ],
            [
             0.7777777777777778,
             "#fb9f3a"
            ],
            [
             0.8888888888888888,
             "#fdca26"
            ],
            [
             1,
             "#f0f921"
            ]
           ]
          },
          "colorway": [
           "#636efa",
           "#EF553B",
           "#00cc96",
           "#ab63fa",
           "#FFA15A",
           "#19d3f3",
           "#FF6692",
           "#B6E880",
           "#FF97FF",
           "#FECB52"
          ],
          "font": {
           "color": "#2a3f5f"
          },
          "geo": {
           "bgcolor": "white",
           "lakecolor": "white",
           "landcolor": "#E5ECF6",
           "showlakes": true,
           "showland": true,
           "subunitcolor": "white"
          },
          "hoverlabel": {
           "align": "left"
          },
          "hovermode": "closest",
          "mapbox": {
           "style": "light"
          },
          "paper_bgcolor": "white",
          "plot_bgcolor": "#E5ECF6",
          "polar": {
           "angularaxis": {
            "gridcolor": "white",
            "linecolor": "white",
            "ticks": ""
           },
           "bgcolor": "#E5ECF6",
           "radialaxis": {
            "gridcolor": "white",
            "linecolor": "white",
            "ticks": ""
           }
          },
          "scene": {
           "xaxis": {
            "backgroundcolor": "#E5ECF6",
            "gridcolor": "white",
            "gridwidth": 2,
            "linecolor": "white",
            "showbackground": true,
            "ticks": "",
            "zerolinecolor": "white"
           },
           "yaxis": {
            "backgroundcolor": "#E5ECF6",
            "gridcolor": "white",
            "gridwidth": 2,
            "linecolor": "white",
            "showbackground": true,
            "ticks": "",
            "zerolinecolor": "white"
           },
           "zaxis": {
            "backgroundcolor": "#E5ECF6",
            "gridcolor": "white",
            "gridwidth": 2,
            "linecolor": "white",
            "showbackground": true,
            "ticks": "",
            "zerolinecolor": "white"
           }
          },
          "shapedefaults": {
           "line": {
            "color": "#2a3f5f"
           }
          },
          "ternary": {
           "aaxis": {
            "gridcolor": "white",
            "linecolor": "white",
            "ticks": ""
           },
           "baxis": {
            "gridcolor": "white",
            "linecolor": "white",
            "ticks": ""
           },
           "bgcolor": "#E5ECF6",
           "caxis": {
            "gridcolor": "white",
            "linecolor": "white",
            "ticks": ""
           }
          },
          "title": {
           "x": 0.05
          },
          "xaxis": {
           "automargin": true,
           "gridcolor": "white",
           "linecolor": "white",
           "ticks": "",
           "title": {
            "standoff": 15
           },
           "zerolinecolor": "white",
           "zerolinewidth": 2
          },
          "yaxis": {
           "automargin": true,
           "gridcolor": "white",
           "linecolor": "white",
           "ticks": "",
           "title": {
            "standoff": 15
           },
           "zerolinecolor": "white",
           "zerolinewidth": 2
          }
         }
        },
        "title": {
         "text": "Average Insurance Charges by Region"
        },
        "uniformtext": {
         "minsize": 8,
         "mode": "hide"
        },
        "xaxis": {
         "anchor": "y",
         "categoryarray": [
          "northeast",
          "northwest",
          "southeast",
          "southwest"
         ],
         "categoryorder": "array",
         "domain": [
          0,
          1
         ],
         "title": {
          "text": "Region"
         }
        },
        "yaxis": {
         "anchor": "x",
         "domain": [
          0,
          1
         ],
         "title": {
          "text": "Average Charges"
         }
        }
       }
      }
     },
     "metadata": {},
     "output_type": "display_data"
    }
   ],
   "source": [
    "import pandas as pd\n",
    "import plotly.express as px\n",
    "\n",
    "df = pd.read_csv('insurance.csv')\n",
    "avg_charges = df.groupby('region')['charges'].mean().reset_index()\n",
    "\n",
    "# Round to nearest thousand and format as '12k'\n",
    "avg_charges['charges_k'] = (avg_charges['charges'] / 1000).round().astype(int).astype(str) + 'k'\n",
    "\n",
    "fig = px.bar(\n",
    "    avg_charges,\n",
    "    x='region',\n",
    "    y='charges',\n",
    "    color='region',\n",
    "    text='charges_k',  # Show '12k' style labels\n",
    "    title='Average Insurance Charges by Region',\n",
    "    labels={'charges': 'Average Charges', 'region': 'Region'}\n",
    ")\n",
    "\n",
    "fig.update_traces(texttemplate='%{text}', textposition='outside')\n",
    "fig.update_layout(uniformtext_minsize=8, uniformtext_mode='hide')\n",
    "\n",
    "fig.show()"
   ]
  },
  {
   "cell_type": "code",
   "execution_count": null,
   "id": "22b2164e",
   "metadata": {},
   "outputs": [],
   "source": []
  }
 ],
 "metadata": {
  "kernelspec": {
   "display_name": ".venv",
   "language": "python",
   "name": "python3"
  },
  "language_info": {
   "codemirror_mode": {
    "name": "ipython",
    "version": 3
   },
   "file_extension": ".py",
   "mimetype": "text/x-python",
   "name": "python",
   "nbconvert_exporter": "python",
   "pygments_lexer": "ipython3",
   "version": "3.12.10"
  }
 },
 "nbformat": 4,
 "nbformat_minor": 5
}
